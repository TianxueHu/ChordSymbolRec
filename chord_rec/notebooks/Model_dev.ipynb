{
 "cells": [
  {
   "cell_type": "code",
   "execution_count": 1,
   "metadata": {},
   "outputs": [],
   "source": [
    "from collections import Counter\n",
    "import pickle as pkl\n",
    "import numpy as np\n",
    "import torch\n",
    "import torch.nn as nn\n",
    "import torch.optim as optim\n",
    "from torch.utils.data import DataLoader, SequentialSampler, RandomSampler, Dataset, SubsetRandomSampler\n",
    "\n",
    "from sklearn.model_selection import train_test_split\n",
    "\n",
    "from tqdm.notebook import tqdm\n",
    "\n",
    "from torchtext.vocab import Vocab"
   ]
  },
  {
   "cell_type": "code",
   "execution_count": 2,
   "metadata": {},
   "outputs": [],
   "source": [
    "class Vec21Dataset(Dataset):\n",
    "    def __init__(self, note_vec, chords):\n",
    "        'Initialization'\n",
    "        self.note_vec = note_vec\n",
    "        self.chords = chords\n",
    "\n",
    "    def __len__(self):\n",
    "        'Get the total length of the dataset'\n",
    "        return len(self.note_vec)\n",
    "    def __getitem__(self, index):\n",
    "        'Generates one sample of data'\n",
    "        # Select sample\n",
    "        return self.note_vec[index], self.chords[index]"
   ]
  },
  {
   "cell_type": "code",
   "execution_count": 3,
   "metadata": {},
   "outputs": [],
   "source": [
    "class BaselineNN(nn.Module):\n",
    "    def __init__(self, vec_size, vocab_size, hidden = 128):\n",
    "        super(BaselineNN, self).__init__();\n",
    "        self.fc = nn.Sequential(\n",
    "            nn.Linear(vec_size, 2*hidden),\n",
    "            nn.ReLU(),\n",
    "            nn.Linear(hidden*2, hidden),\n",
    "            nn.ReLU(),\n",
    "            nn.Dropout(0.2),\n",
    "            nn.Linear(hidden, hidden//2),\n",
    "            nn.ReLU(),\n",
    "            nn.Linear(hidden//2, vocab_size))\n",
    "        self.relu = nn.ReLU()\n",
    "        \n",
    "    def forward(self, note_vec):\n",
    "        out = self.fc(note_vec)\n",
    "        return out"
   ]
  },
  {
   "cell_type": "code",
   "execution_count": 148,
   "metadata": {},
   "outputs": [],
   "source": [
    "bach = pkl.load(open('sears_reduced_ffnn_new.pkl',\"rb\"))\n",
    "bach = [np.array(x) for x in bach]\n",
    "bach = np.vstack(bach)\n",
    "\n",
    "# haydn = pkl.load(open('pickle_vector_lists/Haydn_reduce_vectors_ffnn_21enc.pkl',\"rb\"))\n",
    "# haydn = [np.array(x) for x in haydn]\n",
    "# haydn = np.vstack(haydn)\n",
    "\n",
    "#data = np.vstack((bach,haydn))\n",
    "data = bach"
   ]
  },
  {
   "cell_type": "code",
   "execution_count": 149,
   "metadata": {},
   "outputs": [],
   "source": [
    "SEED = 0\n",
    "VAL_SIZE = 0.2\n",
    "TEST_SIZE = 0.2"
   ]
  },
  {
   "cell_type": "code",
   "execution_count": 150,
   "metadata": {},
   "outputs": [],
   "source": [
    "note_vec, chords = data[:, :-1], data[:,-1]"
   ]
  },
  {
   "cell_type": "code",
   "execution_count": 151,
   "metadata": {},
   "outputs": [],
   "source": [
    "note_vec = np.asarray(note_vec, dtype = np.float32)"
   ]
  },
  {
   "cell_type": "code",
   "execution_count": 152,
   "metadata": {},
   "outputs": [],
   "source": [
    "chord_vocab = Vocab(Counter(chords))"
   ]
  },
  {
   "cell_type": "code",
   "execution_count": 153,
   "metadata": {},
   "outputs": [
    {
     "data": {
      "text/plain": [
       "defaultdict(<bound method Vocab._default_unk_index of <torchtext.vocab.Vocab object at 0x00000297AE47E288>>,\n",
       "            {'<unk>': 0,\n",
       "             '<pad>': 1,\n",
       "             'G major': 2,\n",
       "             'D major': 3,\n",
       "             'C major': 4,\n",
       "             'F major': 5,\n",
       "             'Bb major': 6,\n",
       "             'A major': 7,\n",
       "             'Eb major': 8,\n",
       "             'E major': 9,\n",
       "             'Ab major': 10,\n",
       "             'B major': 11,\n",
       "             'Db major': 12,\n",
       "             'A dominant seventh': 13,\n",
       "             'D dominant seventh': 14,\n",
       "             'G dominant seventh': 15,\n",
       "             'C dominant seventh': 16,\n",
       "             'F# major': 17,\n",
       "             'F dominant seventh': 18,\n",
       "             'E dominant seventh': 19,\n",
       "             'Bb dominant seventh': 20,\n",
       "             'B dominant seventh': 21,\n",
       "             'Gb major': 22,\n",
       "             'F# dominant seventh': 23,\n",
       "             'Eb dominant seventh': 24,\n",
       "             'Ab dominant seventh': 25,\n",
       "             'C# major': 26,\n",
       "             'Cb major': 27,\n",
       "             'C# dominant seventh': 28,\n",
       "             'Db dominant seventh': 29,\n",
       "             'G# major': 30,\n",
       "             'G# dominant seventh': 31,\n",
       "             'E minor': 32,\n",
       "             'A minor': 33,\n",
       "             'D minor': 34,\n",
       "             'G minor': 35,\n",
       "             'C minor': 36,\n",
       "             'B minor': 37,\n",
       "             'Fb major': 38,\n",
       "             'F minor': 39,\n",
       "             'D# dominant seventh': 40,\n",
       "             'Gb dominant seventh': 41,\n",
       "             'F# minor': 42,\n",
       "             'Bb minor': 43,\n",
       "             'Eb minor': 44,\n",
       "             'C# minor': 45,\n",
       "             'D# major': 46,\n",
       "             'Ab minor': 47,\n",
       "             'Bbb major': 48,\n",
       "             'G# minor': 49,\n",
       "             'Cb dominant seventh': 50,\n",
       "             'A# dominant seventh': 51,\n",
       "             'Db minor': 52,\n",
       "             'D# minor': 53,\n",
       "             'G# half-diminished seventh': 54,\n",
       "             'B diminished': 55,\n",
       "             'C# diminished': 56,\n",
       "             'F# diminished': 57,\n",
       "             'G# diminished': 58,\n",
       "             'A diminished': 59,\n",
       "             'E diminished': 60,\n",
       "             'A half-diminished seventh': 61,\n",
       "             'B half-diminished seventh': 62,\n",
       "             'C# half-diminished seventh': 63,\n",
       "             'E half-diminished seventh': 64,\n",
       "             'F# half-diminished seventh': 65,\n",
       "             'A# major': 66,\n",
       "             'D diminished': 67,\n",
       "             'D half-diminished seventh': 68,\n",
       "             'D# diminished': 69,\n",
       "             'G diminished': 70,\n",
       "             'D# half-diminished seventh': 71,\n",
       "             'Fb dominant seventh': 72,\n",
       "             'G half-diminished seventh': 73,\n",
       "             'A# minor': 74,\n",
       "             'A# half-diminished seventh': 75,\n",
       "             'C half-diminished seventh': 76,\n",
       "             'E# dominant seventh': 77,\n",
       "             'Gb minor': 78,\n",
       "             'A# diminished': 79,\n",
       "             'C diminished': 80,\n",
       "             'E# diminished': 81,\n",
       "             'E# half-diminished seventh': 82,\n",
       "             'F half-diminished seventh': 83,\n",
       "             'A minor seventh': 84,\n",
       "             'Bb minor seventh': 85,\n",
       "             'C minor seventh': 86,\n",
       "             'D minor seventh': 87,\n",
       "             'E minor seventh': 88,\n",
       "             'F minor seventh': 89,\n",
       "             'G minor seventh': 90,\n",
       "             'B minor seventh': 91,\n",
       "             'Ebb major': 92,\n",
       "             'E# major': 93,\n",
       "             'F# minor seventh': 94,\n",
       "             'B# major': 95,\n",
       "             'F diminished': 96,\n",
       "             'Eb minor seventh': 97,\n",
       "             'E# minor': 98,\n",
       "             'B# diminished': 99,\n",
       "             'Bb diminished': 100,\n",
       "             'C# minor seventh': 101,\n",
       "             'Fx major': 102,\n",
       "             'B# dominant seventh': 103,\n",
       "             'G# minor seventh': 104,\n",
       "             'Cb minor': 105,\n",
       "             'Cx dominant seventh': 106,\n",
       "             'B# half-diminished seventh': 107,\n",
       "             'Bb half-diminished seventh': 108,\n",
       "             'Fx dominant seventh': 109,\n",
       "             'B# minor': 110,\n",
       "             'B fully-diminished seventh': 111,\n",
       "             'C# fully-diminished seventh': 112,\n",
       "             'D# fully-diminished seventh': 113,\n",
       "             'F# fully-diminished seventh': 114,\n",
       "             'G# fully-diminished seventh': 115,\n",
       "             'A fully-diminished seventh': 116,\n",
       "             'D fully-diminished seventh': 117,\n",
       "             'E fully-diminished seventh': 118,\n",
       "             'A# fully-diminished seventh': 119,\n",
       "             'Ab minor seventh': 120,\n",
       "             'Fx minor': 121,\n",
       "             'A augmented': 122,\n",
       "             'Ab augmented': 123,\n",
       "             'Bb augmented': 124,\n",
       "             'C augmented': 125,\n",
       "             'D augmented': 126,\n",
       "             'Eb augmented': 127,\n",
       "             'F augmented': 128,\n",
       "             'Fx half-diminished seventh': 129,\n",
       "             'G augmented': 130,\n",
       "             'G fully-diminished seventh': 131,\n",
       "             'C fully-diminished seventh': 132,\n",
       "             'E augmented': 133,\n",
       "             'Gx minor': 134,\n",
       "             'Abb major': 135,\n",
       "             'Bbb dominant seventh': 136,\n",
       "             'Db augmented': 137,\n",
       "             'E# fully-diminished seventh': 138,\n",
       "             'Eb half-diminished seventh': 139,\n",
       "             'Cb augmented': 140,\n",
       "             'Gb augmented': 141,\n",
       "             'A german augmented sixth': 142,\n",
       "             'A# german augmented sixth': 143,\n",
       "             'B german augmented sixth': 144,\n",
       "             'C# german augmented sixth': 145,\n",
       "             'D german augmented sixth': 146,\n",
       "             'D# german augmented sixth': 147,\n",
       "             'Db minor seventh': 148,\n",
       "             'E german augmented sixth': 149,\n",
       "             'E# german augmented sixth': 150,\n",
       "             'F# german augmented sixth': 151,\n",
       "             'G german augmented sixth': 152,\n",
       "             'G# german augmented sixth': 153,\n",
       "             'B augmented': 154,\n",
       "             'Cx half-diminished seventh': 155,\n",
       "             'F fully-diminished seventh': 156,\n",
       "             'F# augmented': 157,\n",
       "             'Fx diminished': 158,\n",
       "             'Eb diminished': 159,\n",
       "             'B# german augmented sixth': 160,\n",
       "             'Fb minor': 161,\n",
       "             'Ax half-diminished seventh': 162,\n",
       "             'B# fully-diminished seventh': 163,\n",
       "             'Bx half-diminished seventh': 164,\n",
       "             'C# augmented': 165,\n",
       "             'Cbb major': 166,\n",
       "             'Cx diminished': 167,\n",
       "             'D# minor seventh': 168,\n",
       "             'Dbb major': 169,\n",
       "             'Dx half-diminished seventh': 170,\n",
       "             'Fbb major': 171,\n",
       "             'Gbb major': 172,\n",
       "             'Gx half-diminished seventh': 173,\n",
       "             'Cx minor': 174,\n",
       "             'Fx fully-diminished seventh': 175,\n",
       "             'Gx dominant seventh': 176,\n",
       "             'Cx major': 177,\n",
       "             'Dx minor': 178,\n",
       "             'Gb minor seventh': 179,\n",
       "             'C german augmented sixth': 180,\n",
       "             'Fb augmented': 181,\n",
       "             'A major seventh': 182,\n",
       "             'A# french augmented sixth': 183,\n",
       "             'Ab half-diminished seventh': 184,\n",
       "             'Ab major seventh': 185,\n",
       "             'Ax french augmented sixth': 186,\n",
       "             'B major seventh': 187,\n",
       "             'B# french augmented sixth': 188,\n",
       "             'Bb fully-diminished seventh': 189,\n",
       "             'Bb major seventh': 190,\n",
       "             'Bx french augmented sixth': 191,\n",
       "             'C major seventh': 192,\n",
       "             'Cx french augmented sixth': 193,\n",
       "             'D major seventh': 194,\n",
       "             'Db major seventh': 195,\n",
       "             'Dx french augmented sixth': 196,\n",
       "             'E major seventh': 197,\n",
       "             'E# french augmented sixth': 198,\n",
       "             'Eb major seventh': 199,\n",
       "             'Ex french augmented sixth': 200,\n",
       "             'F major seventh': 201,\n",
       "             'F# major seventh': 202,\n",
       "             'Fx french augmented sixth': 203,\n",
       "             'G major seventh': 204,\n",
       "             'Gx french augmented sixth': 205,\n",
       "             'Cb minor seventh': 206,\n",
       "             'Cx fully-diminished seventh': 207,\n",
       "             'Dx diminished': 208,\n",
       "             'Dx fully-diminished seventh': 209,\n",
       "             'Gx diminished': 210,\n",
       "             'Gx fully-diminished seventh': 211,\n",
       "             'Gx major': 212})"
      ]
     },
     "execution_count": 153,
     "metadata": {},
     "output_type": "execute_result"
    }
   ],
   "source": [
    "chord_vocab.stoi"
   ]
  },
  {
   "cell_type": "code",
   "execution_count": 154,
   "metadata": {},
   "outputs": [],
   "source": [
    "encoded_chords = [chord_vocab.stoi[ch] for ch in chords]"
   ]
  },
  {
   "cell_type": "code",
   "execution_count": 155,
   "metadata": {},
   "outputs": [],
   "source": [
    "# vtoi = {x: idx for idx, x in enumerate(list(Counter(chords).keys()))}\n",
    "# itov = {idx: x for x, idx in vtoi.items()}\n",
    "# encoded_chords = [vtoi[ch] for ch in chords]\n",
    "# encoded_chords = np.asarray([vtoi[ch] for ch in chords], dtype = np.int_)"
   ]
  },
  {
   "cell_type": "code",
   "execution_count": 156,
   "metadata": {},
   "outputs": [],
   "source": [
    "vec_size = note_vec.shape[1]\n",
    "vocab_size = len(chord_vocab.stoi)"
   ]
  },
  {
   "cell_type": "code",
   "execution_count": 157,
   "metadata": {},
   "outputs": [],
   "source": [
    "note_train, note_test, chord_train, chord_test \\\n",
    "    = train_test_split(note_vec, encoded_chords, test_size=TEST_SIZE, random_state=SEED)\n",
    "\n",
    "note_train, note_val, chord_train, chord_val \\\n",
    "    = train_test_split(note_vec, encoded_chords, test_size= VAL_SIZE/ (1-TEST_SIZE), random_state=SEED)"
   ]
  },
  {
   "cell_type": "code",
   "execution_count": 158,
   "metadata": {},
   "outputs": [],
   "source": [
    "train_dataset = Vec21Dataset(note_train, chord_train)\n",
    "val_dataset = Vec21Dataset(note_val, chord_val)\n",
    "test_dataset = Vec21Dataset(note_test, chord_test)"
   ]
  },
  {
   "cell_type": "code",
   "execution_count": 159,
   "metadata": {},
   "outputs": [],
   "source": [
    "batch_size = 128\n",
    "train_loader = DataLoader(train_dataset, batch_size = batch_size)\n",
    "val_loader = DataLoader(val_dataset, batch_size =  batch_size)\n",
    "test_loader =  DataLoader(test_dataset, batch_size =  batch_size)"
   ]
  },
  {
   "cell_type": "code",
   "execution_count": 160,
   "metadata": {},
   "outputs": [],
   "source": [
    "model = BaselineNN(vec_size, vocab_size)"
   ]
  },
  {
   "cell_type": "code",
   "execution_count": 161,
   "metadata": {},
   "outputs": [],
   "source": [
    "criterion = nn.CrossEntropyLoss()\n",
    "optimizer = optim.Adam(model.parameters(), lr = 1e-3)"
   ]
  },
  {
   "cell_type": "code",
   "execution_count": 162,
   "metadata": {},
   "outputs": [
    {
     "data": {
      "application/vnd.jupyter.widget-view+json": {
       "model_id": "d8e35dcca917431e848b66bc27a49d7d",
       "version_major": 2,
       "version_minor": 0
      },
      "text/plain": [
       "HBox(children=(FloatProgress(value=0.0, max=293.0), HTML(value='')))"
      ]
     },
     "metadata": {},
     "output_type": "display_data"
    },
    {
     "name": "stdout",
     "output_type": "stream",
     "text": [
      "\n",
      "Total Training Loss: 786.29\n"
     ]
    },
    {
     "data": {
      "application/vnd.jupyter.widget-view+json": {
       "model_id": "e783a92fd575465992e6824ba26d18ad",
       "version_major": 2,
       "version_minor": 0
      },
      "text/plain": [
       "HBox(children=(FloatProgress(value=0.0, max=98.0), HTML(value='')))"
      ]
     },
     "metadata": {},
     "output_type": "display_data"
    },
    {
     "name": "stdout",
     "output_type": "stream",
     "text": [
      "\n",
      "Total Validation Loss: 156.14\n"
     ]
    },
    {
     "data": {
      "application/vnd.jupyter.widget-view+json": {
       "model_id": "2c9b4217a53440e28f52907fe9f1703e",
       "version_major": 2,
       "version_minor": 0
      },
      "text/plain": [
       "HBox(children=(FloatProgress(value=0.0, max=293.0), HTML(value='')))"
      ]
     },
     "metadata": {},
     "output_type": "display_data"
    },
    {
     "name": "stdout",
     "output_type": "stream",
     "text": [
      "\n",
      "Total Training Loss: 442.99\n"
     ]
    },
    {
     "data": {
      "application/vnd.jupyter.widget-view+json": {
       "model_id": "35f0c4ab3d874eaebbfb9e91ca7014d0",
       "version_major": 2,
       "version_minor": 0
      },
      "text/plain": [
       "HBox(children=(FloatProgress(value=0.0, max=98.0), HTML(value='')))"
      ]
     },
     "metadata": {},
     "output_type": "display_data"
    },
    {
     "name": "stdout",
     "output_type": "stream",
     "text": [
      "\n",
      "Total Validation Loss: 133.97\n"
     ]
    },
    {
     "data": {
      "application/vnd.jupyter.widget-view+json": {
       "model_id": "f325cabd433044b3abfb76d3af2e8795",
       "version_major": 2,
       "version_minor": 0
      },
      "text/plain": [
       "HBox(children=(FloatProgress(value=0.0, max=293.0), HTML(value='')))"
      ]
     },
     "metadata": {},
     "output_type": "display_data"
    },
    {
     "name": "stdout",
     "output_type": "stream",
     "text": [
      "\n",
      "Total Training Loss: 400.15\n"
     ]
    },
    {
     "data": {
      "application/vnd.jupyter.widget-view+json": {
       "model_id": "4ac8f49d6b1d4ca1b66221eb735770dc",
       "version_major": 2,
       "version_minor": 0
      },
      "text/plain": [
       "HBox(children=(FloatProgress(value=0.0, max=98.0), HTML(value='')))"
      ]
     },
     "metadata": {},
     "output_type": "display_data"
    },
    {
     "name": "stdout",
     "output_type": "stream",
     "text": [
      "\n",
      "Total Validation Loss: 126.39\n"
     ]
    },
    {
     "data": {
      "application/vnd.jupyter.widget-view+json": {
       "model_id": "2f3f0bf1bd9a45469af8548ce9cd3dd7",
       "version_major": 2,
       "version_minor": 0
      },
      "text/plain": [
       "HBox(children=(FloatProgress(value=0.0, max=293.0), HTML(value='')))"
      ]
     },
     "metadata": {},
     "output_type": "display_data"
    },
    {
     "name": "stdout",
     "output_type": "stream",
     "text": [
      "\n",
      "Total Training Loss: 380.27\n"
     ]
    },
    {
     "data": {
      "application/vnd.jupyter.widget-view+json": {
       "model_id": "9c12a9e103bf4af0bf41fef7a588e7ef",
       "version_major": 2,
       "version_minor": 0
      },
      "text/plain": [
       "HBox(children=(FloatProgress(value=0.0, max=98.0), HTML(value='')))"
      ]
     },
     "metadata": {},
     "output_type": "display_data"
    },
    {
     "name": "stdout",
     "output_type": "stream",
     "text": [
      "\n",
      "Total Validation Loss: 122.80\n"
     ]
    },
    {
     "data": {
      "application/vnd.jupyter.widget-view+json": {
       "model_id": "0067d9d943f44e308f10e4206260f3bd",
       "version_major": 2,
       "version_minor": 0
      },
      "text/plain": [
       "HBox(children=(FloatProgress(value=0.0, max=293.0), HTML(value='')))"
      ]
     },
     "metadata": {},
     "output_type": "display_data"
    },
    {
     "name": "stdout",
     "output_type": "stream",
     "text": [
      "\n",
      "Total Training Loss: 367.27\n"
     ]
    },
    {
     "data": {
      "application/vnd.jupyter.widget-view+json": {
       "model_id": "ea59d67bfcb64f38ab4bfc8095ea2fc0",
       "version_major": 2,
       "version_minor": 0
      },
      "text/plain": [
       "HBox(children=(FloatProgress(value=0.0, max=98.0), HTML(value='')))"
      ]
     },
     "metadata": {},
     "output_type": "display_data"
    },
    {
     "name": "stdout",
     "output_type": "stream",
     "text": [
      "\n",
      "Total Validation Loss: 120.34\n"
     ]
    },
    {
     "data": {
      "application/vnd.jupyter.widget-view+json": {
       "model_id": "f97df0007fee42a2992d506552c5b735",
       "version_major": 2,
       "version_minor": 0
      },
      "text/plain": [
       "HBox(children=(FloatProgress(value=0.0, max=293.0), HTML(value='')))"
      ]
     },
     "metadata": {},
     "output_type": "display_data"
    },
    {
     "name": "stdout",
     "output_type": "stream",
     "text": [
      "\n",
      "Total Training Loss: 359.41\n"
     ]
    },
    {
     "data": {
      "application/vnd.jupyter.widget-view+json": {
       "model_id": "34ad567849c348359821b2a4a798ce92",
       "version_major": 2,
       "version_minor": 0
      },
      "text/plain": [
       "HBox(children=(FloatProgress(value=0.0, max=98.0), HTML(value='')))"
      ]
     },
     "metadata": {},
     "output_type": "display_data"
    },
    {
     "name": "stdout",
     "output_type": "stream",
     "text": [
      "\n",
      "Total Validation Loss: 119.07\n"
     ]
    },
    {
     "data": {
      "application/vnd.jupyter.widget-view+json": {
       "model_id": "6ef09326413b4cd4845d6676067f6852",
       "version_major": 2,
       "version_minor": 0
      },
      "text/plain": [
       "HBox(children=(FloatProgress(value=0.0, max=293.0), HTML(value='')))"
      ]
     },
     "metadata": {},
     "output_type": "display_data"
    },
    {
     "name": "stdout",
     "output_type": "stream",
     "text": [
      "\n",
      "Total Training Loss: 353.13\n"
     ]
    },
    {
     "data": {
      "application/vnd.jupyter.widget-view+json": {
       "model_id": "bc2522a613bc4f049cc885c81589a72f",
       "version_major": 2,
       "version_minor": 0
      },
      "text/plain": [
       "HBox(children=(FloatProgress(value=0.0, max=98.0), HTML(value='')))"
      ]
     },
     "metadata": {},
     "output_type": "display_data"
    },
    {
     "name": "stdout",
     "output_type": "stream",
     "text": [
      "\n",
      "Total Validation Loss: 118.13\n"
     ]
    },
    {
     "data": {
      "application/vnd.jupyter.widget-view+json": {
       "model_id": "fa0ce7258d0c4ed093bcf6597c4fa504",
       "version_major": 2,
       "version_minor": 0
      },
      "text/plain": [
       "HBox(children=(FloatProgress(value=0.0, max=293.0), HTML(value='')))"
      ]
     },
     "metadata": {},
     "output_type": "display_data"
    },
    {
     "name": "stdout",
     "output_type": "stream",
     "text": [
      "\n",
      "Total Training Loss: 348.33\n"
     ]
    },
    {
     "data": {
      "application/vnd.jupyter.widget-view+json": {
       "model_id": "8d04eaa660cd46a6b893f5275ba9daf1",
       "version_major": 2,
       "version_minor": 0
      },
      "text/plain": [
       "HBox(children=(FloatProgress(value=0.0, max=98.0), HTML(value='')))"
      ]
     },
     "metadata": {},
     "output_type": "display_data"
    },
    {
     "name": "stdout",
     "output_type": "stream",
     "text": [
      "\n",
      "Total Validation Loss: 116.76\n"
     ]
    },
    {
     "data": {
      "application/vnd.jupyter.widget-view+json": {
       "model_id": "91aab04f75644dc485c33169f9a2a73c",
       "version_major": 2,
       "version_minor": 0
      },
      "text/plain": [
       "HBox(children=(FloatProgress(value=0.0, max=293.0), HTML(value='')))"
      ]
     },
     "metadata": {},
     "output_type": "display_data"
    },
    {
     "name": "stdout",
     "output_type": "stream",
     "text": [
      "\n",
      "Total Training Loss: 344.04\n"
     ]
    },
    {
     "data": {
      "application/vnd.jupyter.widget-view+json": {
       "model_id": "3c75d3d43f3d408a8494a9016c534611",
       "version_major": 2,
       "version_minor": 0
      },
      "text/plain": [
       "HBox(children=(FloatProgress(value=0.0, max=98.0), HTML(value='')))"
      ]
     },
     "metadata": {},
     "output_type": "display_data"
    },
    {
     "name": "stdout",
     "output_type": "stream",
     "text": [
      "\n",
      "Total Validation Loss: 116.14\n"
     ]
    },
    {
     "data": {
      "application/vnd.jupyter.widget-view+json": {
       "model_id": "a51cd2b646b34e7fabee2a0bb6110a5c",
       "version_major": 2,
       "version_minor": 0
      },
      "text/plain": [
       "HBox(children=(FloatProgress(value=0.0, max=293.0), HTML(value='')))"
      ]
     },
     "metadata": {},
     "output_type": "display_data"
    },
    {
     "name": "stdout",
     "output_type": "stream",
     "text": [
      "\n",
      "Total Training Loss: 341.48\n"
     ]
    },
    {
     "data": {
      "application/vnd.jupyter.widget-view+json": {
       "model_id": "80d6a2a0113a4206b0ffcafb52f69723",
       "version_major": 2,
       "version_minor": 0
      },
      "text/plain": [
       "HBox(children=(FloatProgress(value=0.0, max=98.0), HTML(value='')))"
      ]
     },
     "metadata": {},
     "output_type": "display_data"
    },
    {
     "name": "stdout",
     "output_type": "stream",
     "text": [
      "\n",
      "Total Validation Loss: 115.05\n"
     ]
    },
    {
     "data": {
      "application/vnd.jupyter.widget-view+json": {
       "model_id": "576b58a3d59b4f2a9b931acb9b656058",
       "version_major": 2,
       "version_minor": 0
      },
      "text/plain": [
       "HBox(children=(FloatProgress(value=0.0, max=293.0), HTML(value='')))"
      ]
     },
     "metadata": {},
     "output_type": "display_data"
    },
    {
     "name": "stdout",
     "output_type": "stream",
     "text": [
      "\n",
      "Total Training Loss: 337.68\n"
     ]
    },
    {
     "data": {
      "application/vnd.jupyter.widget-view+json": {
       "model_id": "9461c4b20e2f4aad8b838d15eaf133a6",
       "version_major": 2,
       "version_minor": 0
      },
      "text/plain": [
       "HBox(children=(FloatProgress(value=0.0, max=98.0), HTML(value='')))"
      ]
     },
     "metadata": {},
     "output_type": "display_data"
    },
    {
     "name": "stdout",
     "output_type": "stream",
     "text": [
      "\n",
      "Total Validation Loss: 114.82\n"
     ]
    },
    {
     "data": {
      "application/vnd.jupyter.widget-view+json": {
       "model_id": "9689de702df240e9a61902938524c085",
       "version_major": 2,
       "version_minor": 0
      },
      "text/plain": [
       "HBox(children=(FloatProgress(value=0.0, max=293.0), HTML(value='')))"
      ]
     },
     "metadata": {},
     "output_type": "display_data"
    },
    {
     "name": "stdout",
     "output_type": "stream",
     "text": [
      "\n",
      "Total Training Loss: 335.65\n"
     ]
    },
    {
     "data": {
      "application/vnd.jupyter.widget-view+json": {
       "model_id": "8115e1d444ba4f72becfcd7979a60ffc",
       "version_major": 2,
       "version_minor": 0
      },
      "text/plain": [
       "HBox(children=(FloatProgress(value=0.0, max=98.0), HTML(value='')))"
      ]
     },
     "metadata": {},
     "output_type": "display_data"
    },
    {
     "name": "stdout",
     "output_type": "stream",
     "text": [
      "\n",
      "Total Validation Loss: 114.27\n"
     ]
    },
    {
     "data": {
      "application/vnd.jupyter.widget-view+json": {
       "model_id": "05fd8126ae944f529304ec5968c71cdb",
       "version_major": 2,
       "version_minor": 0
      },
      "text/plain": [
       "HBox(children=(FloatProgress(value=0.0, max=293.0), HTML(value='')))"
      ]
     },
     "metadata": {},
     "output_type": "display_data"
    },
    {
     "name": "stdout",
     "output_type": "stream",
     "text": [
      "\n",
      "Total Training Loss: 332.06\n"
     ]
    },
    {
     "data": {
      "application/vnd.jupyter.widget-view+json": {
       "model_id": "353ee21cca6b454490a37d0f5250716a",
       "version_major": 2,
       "version_minor": 0
      },
      "text/plain": [
       "HBox(children=(FloatProgress(value=0.0, max=98.0), HTML(value='')))"
      ]
     },
     "metadata": {},
     "output_type": "display_data"
    },
    {
     "name": "stdout",
     "output_type": "stream",
     "text": [
      "\n",
      "Total Validation Loss: 114.09\n"
     ]
    },
    {
     "data": {
      "application/vnd.jupyter.widget-view+json": {
       "model_id": "0e79e4f456be4f3eadea45653775dbcb",
       "version_major": 2,
       "version_minor": 0
      },
      "text/plain": [
       "HBox(children=(FloatProgress(value=0.0, max=293.0), HTML(value='')))"
      ]
     },
     "metadata": {},
     "output_type": "display_data"
    },
    {
     "name": "stdout",
     "output_type": "stream",
     "text": [
      "\n",
      "Total Training Loss: 329.68\n"
     ]
    },
    {
     "data": {
      "application/vnd.jupyter.widget-view+json": {
       "model_id": "e3ebf8e91f9c42e19cdb312288fe7825",
       "version_major": 2,
       "version_minor": 0
      },
      "text/plain": [
       "HBox(children=(FloatProgress(value=0.0, max=98.0), HTML(value='')))"
      ]
     },
     "metadata": {},
     "output_type": "display_data"
    },
    {
     "name": "stdout",
     "output_type": "stream",
     "text": [
      "\n",
      "Total Validation Loss: 113.86\n"
     ]
    },
    {
     "data": {
      "application/vnd.jupyter.widget-view+json": {
       "model_id": "9522c6c35a194b0fa13068ad20567099",
       "version_major": 2,
       "version_minor": 0
      },
      "text/plain": [
       "HBox(children=(FloatProgress(value=0.0, max=293.0), HTML(value='')))"
      ]
     },
     "metadata": {},
     "output_type": "display_data"
    },
    {
     "name": "stdout",
     "output_type": "stream",
     "text": [
      "\n",
      "Total Training Loss: 327.81\n"
     ]
    },
    {
     "data": {
      "application/vnd.jupyter.widget-view+json": {
       "model_id": "8dd5c62336f84e2da0267f041e496d0f",
       "version_major": 2,
       "version_minor": 0
      },
      "text/plain": [
       "HBox(children=(FloatProgress(value=0.0, max=98.0), HTML(value='')))"
      ]
     },
     "metadata": {},
     "output_type": "display_data"
    },
    {
     "name": "stdout",
     "output_type": "stream",
     "text": [
      "\n",
      "Total Validation Loss: 113.70\n"
     ]
    },
    {
     "data": {
      "application/vnd.jupyter.widget-view+json": {
       "model_id": "6101fd9770a74625a93547b0ab60d0ac",
       "version_major": 2,
       "version_minor": 0
      },
      "text/plain": [
       "HBox(children=(FloatProgress(value=0.0, max=293.0), HTML(value='')))"
      ]
     },
     "metadata": {},
     "output_type": "display_data"
    },
    {
     "name": "stdout",
     "output_type": "stream",
     "text": [
      "\n",
      "Total Training Loss: 325.26\n"
     ]
    },
    {
     "data": {
      "application/vnd.jupyter.widget-view+json": {
       "model_id": "62eef48f638e44c684089519b586dd91",
       "version_major": 2,
       "version_minor": 0
      },
      "text/plain": [
       "HBox(children=(FloatProgress(value=0.0, max=98.0), HTML(value='')))"
      ]
     },
     "metadata": {},
     "output_type": "display_data"
    },
    {
     "name": "stdout",
     "output_type": "stream",
     "text": [
      "\n",
      "Total Validation Loss: 113.33\n"
     ]
    },
    {
     "data": {
      "application/vnd.jupyter.widget-view+json": {
       "model_id": "58e15da116ae4d31bb81ed0e4cead8d2",
       "version_major": 2,
       "version_minor": 0
      },
      "text/plain": [
       "HBox(children=(FloatProgress(value=0.0, max=293.0), HTML(value='')))"
      ]
     },
     "metadata": {},
     "output_type": "display_data"
    },
    {
     "name": "stdout",
     "output_type": "stream",
     "text": [
      "\n",
      "Total Training Loss: 323.50\n"
     ]
    },
    {
     "data": {
      "application/vnd.jupyter.widget-view+json": {
       "model_id": "5b243e8219f94c89920a105974dea2d8",
       "version_major": 2,
       "version_minor": 0
      },
      "text/plain": [
       "HBox(children=(FloatProgress(value=0.0, max=98.0), HTML(value='')))"
      ]
     },
     "metadata": {},
     "output_type": "display_data"
    },
    {
     "name": "stdout",
     "output_type": "stream",
     "text": [
      "\n",
      "Total Validation Loss: 112.93\n"
     ]
    },
    {
     "data": {
      "application/vnd.jupyter.widget-view+json": {
       "model_id": "193c298df6a149af8c2abf0153dc4788",
       "version_major": 2,
       "version_minor": 0
      },
      "text/plain": [
       "HBox(children=(FloatProgress(value=0.0, max=293.0), HTML(value='')))"
      ]
     },
     "metadata": {},
     "output_type": "display_data"
    },
    {
     "name": "stdout",
     "output_type": "stream",
     "text": [
      "\n",
      "Total Training Loss: 321.29\n"
     ]
    },
    {
     "data": {
      "application/vnd.jupyter.widget-view+json": {
       "model_id": "b558bdaa95ae4e348ef05061d4b9cee6",
       "version_major": 2,
       "version_minor": 0
      },
      "text/plain": [
       "HBox(children=(FloatProgress(value=0.0, max=98.0), HTML(value='')))"
      ]
     },
     "metadata": {},
     "output_type": "display_data"
    },
    {
     "name": "stdout",
     "output_type": "stream",
     "text": [
      "\n",
      "Total Validation Loss: 112.97\n"
     ]
    },
    {
     "data": {
      "application/vnd.jupyter.widget-view+json": {
       "model_id": "773a9ce7332f46b5a9c66de7a618b721",
       "version_major": 2,
       "version_minor": 0
      },
      "text/plain": [
       "HBox(children=(FloatProgress(value=0.0, max=293.0), HTML(value='')))"
      ]
     },
     "metadata": {},
     "output_type": "display_data"
    },
    {
     "name": "stdout",
     "output_type": "stream",
     "text": [
      "\n",
      "Total Training Loss: 319.74\n"
     ]
    },
    {
     "data": {
      "application/vnd.jupyter.widget-view+json": {
       "model_id": "a3562d79173c456cb845a046508585e3",
       "version_major": 2,
       "version_minor": 0
      },
      "text/plain": [
       "HBox(children=(FloatProgress(value=0.0, max=98.0), HTML(value='')))"
      ]
     },
     "metadata": {},
     "output_type": "display_data"
    },
    {
     "name": "stdout",
     "output_type": "stream",
     "text": [
      "\n",
      "Total Validation Loss: 113.03\n"
     ]
    },
    {
     "data": {
      "application/vnd.jupyter.widget-view+json": {
       "model_id": "907633be06734149ad1519919c556a8a",
       "version_major": 2,
       "version_minor": 0
      },
      "text/plain": [
       "HBox(children=(FloatProgress(value=0.0, max=293.0), HTML(value='')))"
      ]
     },
     "metadata": {},
     "output_type": "display_data"
    },
    {
     "name": "stdout",
     "output_type": "stream",
     "text": [
      "\n",
      "Total Training Loss: 317.62\n"
     ]
    },
    {
     "data": {
      "application/vnd.jupyter.widget-view+json": {
       "model_id": "27dffec31eda450ab0917c65c41396b2",
       "version_major": 2,
       "version_minor": 0
      },
      "text/plain": [
       "HBox(children=(FloatProgress(value=0.0, max=98.0), HTML(value='')))"
      ]
     },
     "metadata": {},
     "output_type": "display_data"
    },
    {
     "name": "stdout",
     "output_type": "stream",
     "text": [
      "\n",
      "Total Validation Loss: 112.76\n"
     ]
    }
   ],
   "source": [
    "epochs = 20\n",
    "train_losses = []\n",
    "val_losses = []\n",
    "for epoch in range(1,epochs+1):\n",
    "    total_loss = 0\n",
    "    \n",
    "    model.train()\n",
    "    train_pgbar = tqdm(train_loader)\n",
    "    for idx, (note, chord) in enumerate(train_pgbar):\n",
    "        \n",
    "        pred = model(note)\n",
    "        loss = criterion(pred, chord.long())\n",
    "        optimizer.zero_grad()\n",
    "        \n",
    "        if loss.item() != 0:\n",
    "            loss.backward()\n",
    "            optimizer.step()\n",
    "        \n",
    "#         s = \"Epoch: {} Train Loss: {:.5f}\".format(epoch, loss.item())\n",
    "#         tqdm.write(s)\n",
    "        train_pgbar.set_postfix({'Epoch': epoch, 'Train Loss': \"{:.5f}\".format(loss.item())})\n",
    "        total_loss += loss.item()\n",
    "    print(\"Total Training Loss: %.2f\" % total_loss)\n",
    "    train_losses.append(total_loss/len(train_loader))\n",
    "    total_loss = 0\n",
    "    \n",
    "    model.eval()\n",
    "    val_pgbar = tqdm(val_loader)\n",
    "    for idx, (note, chord) in enumerate(val_pgbar):\n",
    "\n",
    "        pred = model(note)\n",
    "        loss= criterion(pred, chord.long())\n",
    "        \n",
    "#         s = \"Epoch: {} Val Loss: {:.5f}\".format(epoch, loss.item())\n",
    "#         tqdm.write(s)\n",
    "        val_pgbar.set_postfix({'Epoch': epoch, 'Val Loss': \"{:.5f}\".format(loss.item())})\n",
    "        total_loss += loss.item()\n",
    "    print(\"Total Validation Loss: %.2f\" % total_loss)\n",
    "    val_losses.append(total_loss/len(val_loader))"
   ]
  },
  {
   "cell_type": "code",
   "execution_count": 163,
   "metadata": {},
   "outputs": [],
   "source": [
    "import matplotlib.pyplot as plt"
   ]
  },
  {
   "cell_type": "code",
   "execution_count": 164,
   "metadata": {},
   "outputs": [
    {
     "data": {
      "image/png": "[encoded data removed]",
      "text/plain": [
       "<Figure size 432x288 with 1 Axes>"
      ]
     },
     "metadata": {
      "needs_background": "light"
     },
     "output_type": "display_data"
    }
   ],
   "source": [
    "fig = plt.figure()\n",
    "ax = fig.add_subplot(111)\n",
    "plt.plot(train_losses, color = \"b\", label = \"train\")\n",
    "plt.plot(val_losses, color = \"r\", label = \"val\")\n",
    "plt.legend(bbox_to_anchor=(1.05, 1), loc='upper left', borderaxespad=0.)\n",
    "ax.set_xlabel('epochs')\n",
    "ax.set_ylabel('cross entropy loss') \n",
    "xint = range(len(train_losses))\n",
    "\n",
    "plt.xticks(xint)\n",
    "plt.show()"
   ]
  },
  {
   "cell_type": "code",
   "execution_count": 165,
   "metadata": {},
   "outputs": [
    {
     "data": {
      "application/vnd.jupyter.widget-view+json": {
       "model_id": "b021abc7eb50453ca6cc6c4e533895c0",
       "version_major": 2,
       "version_minor": 0
      },
      "text/plain": [
       "HBox(children=(FloatProgress(value=0.0, max=98.0), HTML(value='')))"
      ]
     },
     "metadata": {},
     "output_type": "display_data"
    },
    {
     "name": "stdout",
     "output_type": "stream",
     "text": [
      "\n"
     ]
    }
   ],
   "source": [
    "model.eval()\n",
    "all_pred2 = []\n",
    "all_label2 = []\n",
    "for idx, (note, chord) in enumerate(tqdm(val_loader)):\n",
    "        pred = model(note)\n",
    "        pred = pred.detach().numpy().argmax(axis = 1)\n",
    "        label = chord.detach().numpy()\n",
    "        all_pred2.append(pred)\n",
    "        all_label2.append(label)"
   ]
  },
  {
   "cell_type": "code",
   "execution_count": 166,
   "metadata": {},
   "outputs": [],
   "source": [
    "all_pred2 = np.hstack(all_pred2)\n",
    "all_label2 = np.hstack(all_label2)"
   ]
  },
  {
   "cell_type": "code",
   "execution_count": 167,
   "metadata": {},
   "outputs": [
    {
     "data": {
      "text/plain": [
       "0.7088769711038181"
      ]
     },
     "execution_count": 167,
     "metadata": {},
     "output_type": "execute_result"
    }
   ],
   "source": [
    "np.sum(all_pred2 == all_label2)/len(all_pred2)"
   ]
  },
  {
   "cell_type": "code",
   "execution_count": 168,
   "metadata": {},
   "outputs": [],
   "source": [
    "decoded_chords = np.asarray([chord_vocab.itos[ch] for ch in all_label2])\n",
    "decoded_preds = np.asarray([chord_vocab.itos[ch] for ch in all_pred2])"
   ]
  },
  {
   "cell_type": "code",
   "execution_count": 169,
   "metadata": {},
   "outputs": [
    {
     "name": "stdout",
     "output_type": "stream",
     "text": [
      "['E dominant seventh' 'Ab minor' 'A major' ... 'D major' 'Cb major'\n",
      " 'A major']\n",
      "['E dominant seventh' 'Ab minor' 'B dominant seventh' ... 'D major'\n",
      " 'Cb major' 'F# major']\n"
     ]
    }
   ],
   "source": [
    "print(decoded_preds)\n",
    "print(decoded_chords)"
   ]
  },
  {
   "cell_type": "code",
   "execution_count": 170,
   "metadata": {},
   "outputs": [
    {
     "data": {
      "text/plain": [
       "0.7088769711038181"
      ]
     },
     "execution_count": 170,
     "metadata": {},
     "output_type": "execute_result"
    }
   ],
   "source": [
    "# EVALUATE CHORD FULL NAME AFTER DECODING\n",
    "sum(1 for x,y in zip(decoded_preds, decoded_chords) if x == y) / len(decoded_chords)"
   ]
  },
  {
   "cell_type": "code",
   "execution_count": 171,
   "metadata": {},
   "outputs": [],
   "source": [
    "# SEPERATE EVALUATION OF ROOT AND QUALITY AFTER DECODING\n",
    "# seperate all pred \n",
    "root_preds = []\n",
    "quality_preds = []\n",
    "for c in decoded_preds:\n",
    "    sp = c.split(' ')\n",
    "    root_preds.append(sp[0])\n",
    "    quality_preds.append(' '.join(sp[1:]))\n",
    "\n",
    "# seperate all lable \n",
    "root_labels = []\n",
    "quality_labels = []\n",
    "for c in decoded_chords:\n",
    "    sp = c.split(' ')\n",
    "    root_labels.append(sp[0])\n",
    "    quality_labels.append(' '.join(sp[1:]))\n"
   ]
  },
  {
   "cell_type": "code",
   "execution_count": 172,
   "metadata": {},
   "outputs": [
    {
     "data": {
      "text/plain": [
       "0.7838789722244457"
      ]
     },
     "execution_count": 172,
     "metadata": {},
     "output_type": "execute_result"
    }
   ],
   "source": [
    "# EVALUATE root AFTER DECODING\n",
    "sum(1 for x,y in zip(root_preds, root_labels) if x == y) / len(root_labels)"
   ]
  },
  {
   "cell_type": "code",
   "execution_count": 173,
   "metadata": {},
   "outputs": [
    {
     "data": {
      "text/plain": [
       "0.7868406307532219"
      ]
     },
     "execution_count": 173,
     "metadata": {},
     "output_type": "execute_result"
    }
   ],
   "source": [
    "# EVALUATE quality AFTER DECODING\n",
    "sum(1 for x,y in zip(quality_preds, quality_labels) if x == y) / len(quality_labels)"
   ]
  },
  {
   "cell_type": "code",
   "execution_count": 33,
   "metadata": {},
   "outputs": [],
   "source": [
    "co = Counter(chords)"
   ]
  },
  {
   "cell_type": "code",
   "execution_count": 34,
   "metadata": {},
   "outputs": [],
   "source": [
    "most_common_chord = list(list(zip(*co.most_common(20)))[0])"
   ]
  },
  {
   "cell_type": "code",
   "execution_count": 35,
   "metadata": {},
   "outputs": [],
   "source": [
    "for i in range(len(decoded_preds)):\n",
    "    if decoded_preds[i] not in most_common_chord:\n",
    "        decoded_preds[i] = \"others\"\n",
    "    if decoded_chords[i] not in most_common_chord:\n",
    "        decoded_chords[i] = \"others\""
   ]
  },
  {
   "cell_type": "code",
   "execution_count": 36,
   "metadata": {},
   "outputs": [],
   "source": [
    "from sklearn.metrics import confusion_matrix, plot_confusion_matrix\n",
    "import seaborn as sn"
   ]
  },
  {
   "cell_type": "code",
   "execution_count": 37,
   "metadata": {},
   "outputs": [],
   "source": [
    "cm = confusion_matrix(decoded_chords, decoded_preds, normalize = \"true\", labels = most_common_chord + [\"others\"])"
   ]
  },
  {
   "cell_type": "code",
   "execution_count": 38,
   "metadata": {},
   "outputs": [
    {
     "data": {
      "image/png": "[encoded data removed]",
      "text/plain": [
       "<Figure size 936x720 with 2 Axes>"
      ]
     },
     "metadata": {
      "needs_background": "light"
     },
     "output_type": "display_data"
    }
   ],
   "source": [
    "fig, ax = plt.subplots(figsize=(13,10)) \n",
    "\n",
    "sn.heatmap(cm, annot=False)\n",
    "ax.set_xticklabels(most_common_chord + [\"others\"])\n",
    "ax.set_yticklabels(most_common_chord + [\"others\"])\n",
    "plt.yticks(rotation=0) \n",
    "plt.xticks(rotation=\"vertical\") \n",
    "plt.show()\n",
    "fig.savefig(\"confusion_bachhaydn_baseline.pdf\", format = \"pdf\")"
   ]
  },
  {
   "cell_type": "code",
   "execution_count": 80,
   "metadata": {},
   "outputs": [],
   "source": [
    "torch.save(model.state_dict(), \"baseline_bach_and_haydn.pt\")"
   ]
  },
  {
   "cell_type": "code",
   "execution_count": 46,
   "metadata": {},
   "outputs": [],
   "source": [
    "symbol, num = list(zip(*co.most_common(50)))\n",
    "symbol = list(symbol)\n",
    "num = list(num)"
   ]
  },
  {
   "cell_type": "code",
   "execution_count": 49,
   "metadata": {},
   "outputs": [],
   "source": [
    "symbol += ['others']\n",
    "num += [np.sum(list(co.values())) - np.sum(num)]"
   ]
  },
  {
   "cell_type": "code",
   "execution_count": 51,
   "metadata": {},
   "outputs": [],
   "source": [
    "num/=np.sum(num)"
   ]
  },
  {
   "cell_type": "code",
   "execution_count": 52,
   "metadata": {},
   "outputs": [
    {
     "data": {
      "image/png": "[encoded data removed]",
      "text/plain": [
       "<Figure size 936x720 with 1 Axes>"
      ]
     },
     "metadata": {
      "needs_background": "light"
     },
     "output_type": "display_data"
    }
   ],
   "source": [
    "plt.subplots(figsize=(13,10)) \n",
    "x_pos = [i for i, _ in enumerate(symbol)]\n",
    "\n",
    "plt.bar(x_pos, num)\n",
    "plt.xlabel(\"Chord Symbol\")\n",
    "plt.ylabel(\"Occurance\")\n",
    "plt.title(\"bach chorales Chord Distribution\")\n",
    "\n",
    "plt.xticks(x_pos, symbol, rotation = \"vertical\")\n",
    "\n",
    "plt.show()"
   ]
  },
  {
   "cell_type": "code",
   "execution_count": null,
   "metadata": {},
   "outputs": [],
   "source": []
  }
 ],
 "metadata": {
  "kernelspec": {
   "display_name": "Python 3",
   "language": "python",
   "name": "python3"
  },
  "language_info": {
   "codemirror_mode": {
    "name": "ipython",
    "version": 3
   },
   "file_extension": ".py",
   "mimetype": "text/x-python",
   "name": "python",
   "nbconvert_exporter": "python",
   "pygments_lexer": "ipython3",
   "version": "3.7.7"
  }
 },
 "nbformat": 4,
 "nbformat_minor": 4
}
