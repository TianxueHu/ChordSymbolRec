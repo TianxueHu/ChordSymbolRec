{
 "cells": [
  {
   "cell_type": "code",
   "execution_count": 1,
   "metadata": {},
   "outputs": [],
   "source": [
    "from collections import Counter\n",
    "import pickle as pkl\n",
    "import numpy as np\n",
    "import torch\n",
    "import torch.nn as nn\n",
    "import torch.optim as optim\n",
    "from torch.utils.data import DataLoader, SequentialSampler, RandomSampler, Dataset, SubsetRandomSampler\n",
    "\n",
    "from sklearn.model_selection import train_test_split\n",
    "\n",
    "from tqdm.notebook import tqdm"
   ]
  },
  {
   "cell_type": "code",
   "execution_count": 2,
   "metadata": {},
   "outputs": [],
   "source": [
    "class Vec21Dataset(Dataset):\n",
    "    def __init__(self, note_vec, chords):\n",
    "        'Initialization'\n",
    "        self.note_vec = note_vec\n",
    "        self.chords = chords\n",
    "\n",
    "    def __len__(self):\n",
    "        'Get the total length of the dataset'\n",
    "        return len(self.note_vec)\n",
    "    def __getitem__(self, index):\n",
    "        'Generates one sample of data'\n",
    "        # Select sample\n",
    "        return self.note_vec[index], self.chords[index]"
   ]
  },
  {
   "cell_type": "code",
   "execution_count": 3,
   "metadata": {},
   "outputs": [],
   "source": [
    "class BaselineNN(nn.Module):\n",
    "    def __init__(self, vec_size, vocab_size, hidden = 128):\n",
    "        super(BaselineNN, self).__init__();\n",
    "        self.fc = nn.Sequential(\n",
    "            nn.Linear(vec_size, 2*hidden),\n",
    "            nn.ReLU(),\n",
    "            nn.Linear(hidden*2, hidden),\n",
    "            nn.ReLU(),\n",
    "            nn.Dropout(0.2),\n",
    "            nn.Linear(hidden, hidden//2),\n",
    "            nn.ReLU(),\n",
    "            nn.Linear(hidden//2, vocab_size))\n",
    "        self.relu = nn.ReLU()\n",
    "        \n",
    "    def forward(self, note_vec):\n",
    "        out = self.fc(note_vec)\n",
    "        return out"
   ]
  },
  {
   "cell_type": "code",
   "execution_count": 54,
   "metadata": {},
   "outputs": [],
   "source": [
    "bach = pkl.load(open('pickle_vector_lists/Bach_vectors_ffnn_21enc.pkl',\"rb\"))\n",
    "bach = [np.array(x) for x in bach]\n",
    "bach = np.vstack(bach)\n",
    "\n",
    "haydn = pkl.load(open('pickle_vector_lists/Haydn_vectors_ffnn_21enc.pkl',\"rb\"))\n",
    "haydn = [np.array(x) for x in haydn]\n",
    "haydn = np.vstack(haydn)\n",
    "\n",
    "data = np.vstack((bach,haydn))"
   ]
  },
  {
   "cell_type": "code",
   "execution_count": 56,
   "metadata": {},
   "outputs": [],
   "source": [
    "SEED = 0\n",
    "VAL_SIZE = 0.2\n",
    "TEST_SIZE = 0.2"
   ]
  },
  {
   "cell_type": "code",
   "execution_count": 57,
   "metadata": {},
   "outputs": [],
   "source": [
    "note_vec, chords = data[:, :-1], data[:,-1]"
   ]
  },
  {
   "cell_type": "code",
   "execution_count": 58,
   "metadata": {},
   "outputs": [],
   "source": [
    "note_vec = np.asarray(note_vec, dtype = np.float32)"
   ]
  },
  {
   "cell_type": "code",
   "execution_count": 59,
   "metadata": {},
   "outputs": [],
   "source": [
    "vtoi = {x: idx for idx, x in enumerate(list(Counter(chords).keys()))}\n",
    "itov = {idx: x for x, idx in vtoi.items()}\n",
    "encoded_chords = [vtoi[ch] for ch in chords]"
   ]
  },
  {
   "cell_type": "code",
   "execution_count": 60,
   "metadata": {},
   "outputs": [],
   "source": [
    "encoded_chords = np.asarray([vtoi[ch] for ch in chords], dtype = np.int_)"
   ]
  },
  {
   "cell_type": "code",
   "execution_count": 61,
   "metadata": {},
   "outputs": [],
   "source": [
    "vec_size = note_vec.shape[1]\n",
    "vocab_size = len(vtoi)"
   ]
  },
  {
   "cell_type": "code",
   "execution_count": 62,
   "metadata": {},
   "outputs": [],
   "source": [
    "note_train, note_test, chord_train, chord_test \\\n",
    "    = train_test_split(note_vec, encoded_chords, test_size=TEST_SIZE, random_state=SEED)\n",
    "\n",
    "note_train, note_val, chord_train, chord_val \\\n",
    "    = train_test_split(note_vec, encoded_chords, test_size= VAL_SIZE/ (1-TEST_SIZE), random_state=SEED)"
   ]
  },
  {
   "cell_type": "code",
   "execution_count": 63,
   "metadata": {},
   "outputs": [],
   "source": [
    "train_dataset = Vec21Dataset(note_train, chord_train)\n",
    "val_dataset = Vec21Dataset(note_val, chord_val)\n",
    "test_dataset = Vec21Dataset(note_test, chord_test)"
   ]
  },
  {
   "cell_type": "code",
   "execution_count": 64,
   "metadata": {},
   "outputs": [],
   "source": [
    "batch_size = 128\n",
    "train_loader = DataLoader(train_dataset, batch_size = batch_size)\n",
    "val_loader = DataLoader(val_dataset, batch_size =  batch_size)\n",
    "test_loader =  DataLoader(test_dataset, batch_size =  batch_size)"
   ]
  },
  {
   "cell_type": "code",
   "execution_count": 65,
   "metadata": {},
   "outputs": [],
   "source": [
    "model = BaselineNN(vec_size, vocab_size)"
   ]
  },
  {
   "cell_type": "code",
   "execution_count": 66,
   "metadata": {},
   "outputs": [],
   "source": [
    "criterion = nn.CrossEntropyLoss()\n",
    "optimizer = optim.Adam(model.parameters(), lr = 1e-3)"
   ]
  },
  {
   "cell_type": "code",
   "execution_count": 67,
   "metadata": {},
   "outputs": [
    {
     "data": {
      "application/vnd.jupyter.widget-view+json": {
       "model_id": "9b16df8724124e049a4f0b868c3923b8",
       "version_major": 2,
       "version_minor": 0
      },
      "text/plain": [
       "HBox(children=(FloatProgress(value=0.0, max=1253.0), HTML(value='')))"
      ]
     },
     "metadata": {},
     "output_type": "display_data"
    },
    {
     "name": "stdout",
     "output_type": "stream",
     "text": [
      "\n",
      "Total Training Loss: 2776.56\n"
     ]
    },
    {
     "data": {
      "application/vnd.jupyter.widget-view+json": {
       "model_id": "4347247317f743b78ae2418e701e7e46",
       "version_major": 2,
       "version_minor": 0
      },
      "text/plain": [
       "HBox(children=(FloatProgress(value=0.0, max=418.0), HTML(value='')))"
      ]
     },
     "metadata": {},
     "output_type": "display_data"
    },
    {
     "name": "stdout",
     "output_type": "stream",
     "text": [
      "\n",
      "Total Validation Loss: 754.91\n"
     ]
    },
    {
     "data": {
      "application/vnd.jupyter.widget-view+json": {
       "model_id": "b8fbed1255d74ab2b18f4bc24a494002",
       "version_major": 2,
       "version_minor": 0
      },
      "text/plain": [
       "HBox(children=(FloatProgress(value=0.0, max=1253.0), HTML(value='')))"
      ]
     },
     "metadata": {},
     "output_type": "display_data"
    },
    {
     "name": "stdout",
     "output_type": "stream",
     "text": [
      "\n",
      "Total Training Loss: 2242.28\n"
     ]
    },
    {
     "data": {
      "application/vnd.jupyter.widget-view+json": {
       "model_id": "5cf3ea8d533749788b981c23a072f042",
       "version_major": 2,
       "version_minor": 0
      },
      "text/plain": [
       "HBox(children=(FloatProgress(value=0.0, max=418.0), HTML(value='')))"
      ]
     },
     "metadata": {},
     "output_type": "display_data"
    },
    {
     "name": "stdout",
     "output_type": "stream",
     "text": [
      "\n",
      "Total Validation Loss: 726.68\n"
     ]
    },
    {
     "data": {
      "application/vnd.jupyter.widget-view+json": {
       "model_id": "dccb955987234cce8c7840d7ecb62bde",
       "version_major": 2,
       "version_minor": 0
      },
      "text/plain": [
       "HBox(children=(FloatProgress(value=0.0, max=1253.0), HTML(value='')))"
      ]
     },
     "metadata": {},
     "output_type": "display_data"
    },
    {
     "name": "stdout",
     "output_type": "stream",
     "text": [
      "\n",
      "Total Training Loss: 2174.15\n"
     ]
    },
    {
     "data": {
      "application/vnd.jupyter.widget-view+json": {
       "model_id": "8ce17ff9a042471197fe2af7e11432d1",
       "version_major": 2,
       "version_minor": 0
      },
      "text/plain": [
       "HBox(children=(FloatProgress(value=0.0, max=418.0), HTML(value='')))"
      ]
     },
     "metadata": {},
     "output_type": "display_data"
    },
    {
     "name": "stdout",
     "output_type": "stream",
     "text": [
      "\n",
      "Total Validation Loss: 713.03\n"
     ]
    },
    {
     "data": {
      "application/vnd.jupyter.widget-view+json": {
       "model_id": "ae87edf1e24b47daace188edf3dbdd3b",
       "version_major": 2,
       "version_minor": 0
      },
      "text/plain": [
       "HBox(children=(FloatProgress(value=0.0, max=1253.0), HTML(value='')))"
      ]
     },
     "metadata": {},
     "output_type": "display_data"
    },
    {
     "name": "stdout",
     "output_type": "stream",
     "text": [
      "\n",
      "Total Training Loss: 2138.40\n"
     ]
    },
    {
     "data": {
      "application/vnd.jupyter.widget-view+json": {
       "model_id": "7af9dcdeec0e40348813310919363df6",
       "version_major": 2,
       "version_minor": 0
      },
      "text/plain": [
       "HBox(children=(FloatProgress(value=0.0, max=418.0), HTML(value='')))"
      ]
     },
     "metadata": {},
     "output_type": "display_data"
    },
    {
     "name": "stdout",
     "output_type": "stream",
     "text": [
      "\n",
      "Total Validation Loss: 704.91\n"
     ]
    },
    {
     "data": {
      "application/vnd.jupyter.widget-view+json": {
       "model_id": "aa45fa04ce8a4006a37f6c38b5b38f22",
       "version_major": 2,
       "version_minor": 0
      },
      "text/plain": [
       "HBox(children=(FloatProgress(value=0.0, max=1253.0), HTML(value='')))"
      ]
     },
     "metadata": {},
     "output_type": "display_data"
    },
    {
     "name": "stdout",
     "output_type": "stream",
     "text": [
      "\n",
      "Total Training Loss: 2111.20\n"
     ]
    },
    {
     "data": {
      "application/vnd.jupyter.widget-view+json": {
       "model_id": "e0d43f84fea344af84625e43bd120da4",
       "version_major": 2,
       "version_minor": 0
      },
      "text/plain": [
       "HBox(children=(FloatProgress(value=0.0, max=418.0), HTML(value='')))"
      ]
     },
     "metadata": {},
     "output_type": "display_data"
    },
    {
     "name": "stdout",
     "output_type": "stream",
     "text": [
      "\n",
      "Total Validation Loss: 699.42\n"
     ]
    },
    {
     "data": {
      "application/vnd.jupyter.widget-view+json": {
       "model_id": "be4364712e264cbd8a8ef992885ca172",
       "version_major": 2,
       "version_minor": 0
      },
      "text/plain": [
       "HBox(children=(FloatProgress(value=0.0, max=1253.0), HTML(value='')))"
      ]
     },
     "metadata": {},
     "output_type": "display_data"
    },
    {
     "name": "stdout",
     "output_type": "stream",
     "text": [
      "\n",
      "Total Training Loss: 2093.00\n"
     ]
    },
    {
     "data": {
      "application/vnd.jupyter.widget-view+json": {
       "model_id": "6c303318f81d44fa83db0e11a8d62537",
       "version_major": 2,
       "version_minor": 0
      },
      "text/plain": [
       "HBox(children=(FloatProgress(value=0.0, max=418.0), HTML(value='')))"
      ]
     },
     "metadata": {},
     "output_type": "display_data"
    },
    {
     "name": "stdout",
     "output_type": "stream",
     "text": [
      "\n",
      "Total Validation Loss: 693.95\n"
     ]
    },
    {
     "data": {
      "application/vnd.jupyter.widget-view+json": {
       "model_id": "251b336b4c974080a133f3d6e2d63a73",
       "version_major": 2,
       "version_minor": 0
      },
      "text/plain": [
       "HBox(children=(FloatProgress(value=0.0, max=1253.0), HTML(value='')))"
      ]
     },
     "metadata": {},
     "output_type": "display_data"
    },
    {
     "name": "stdout",
     "output_type": "stream",
     "text": [
      "\n",
      "Total Training Loss: 2077.36\n"
     ]
    },
    {
     "data": {
      "application/vnd.jupyter.widget-view+json": {
       "model_id": "867813e50cf74ffc9cf0ed8d0fea5cbe",
       "version_major": 2,
       "version_minor": 0
      },
      "text/plain": [
       "HBox(children=(FloatProgress(value=0.0, max=418.0), HTML(value='')))"
      ]
     },
     "metadata": {},
     "output_type": "display_data"
    },
    {
     "name": "stdout",
     "output_type": "stream",
     "text": [
      "\n",
      "Total Validation Loss: 691.49\n"
     ]
    },
    {
     "data": {
      "application/vnd.jupyter.widget-view+json": {
       "model_id": "327e184ef78d455fb4186c760373a52a",
       "version_major": 2,
       "version_minor": 0
      },
      "text/plain": [
       "HBox(children=(FloatProgress(value=0.0, max=1253.0), HTML(value='')))"
      ]
     },
     "metadata": {},
     "output_type": "display_data"
    },
    {
     "name": "stdout",
     "output_type": "stream",
     "text": [
      "\n",
      "Total Training Loss: 2062.46\n"
     ]
    },
    {
     "data": {
      "application/vnd.jupyter.widget-view+json": {
       "model_id": "45d399f71ab14248b20d4caa4b6af0da",
       "version_major": 2,
       "version_minor": 0
      },
      "text/plain": [
       "HBox(children=(FloatProgress(value=0.0, max=418.0), HTML(value='')))"
      ]
     },
     "metadata": {},
     "output_type": "display_data"
    },
    {
     "name": "stdout",
     "output_type": "stream",
     "text": [
      "\n",
      "Total Validation Loss: 688.15\n"
     ]
    },
    {
     "data": {
      "application/vnd.jupyter.widget-view+json": {
       "model_id": "797782e0f4fa4cf38a3dc41483acac94",
       "version_major": 2,
       "version_minor": 0
      },
      "text/plain": [
       "HBox(children=(FloatProgress(value=0.0, max=1253.0), HTML(value='')))"
      ]
     },
     "metadata": {},
     "output_type": "display_data"
    },
    {
     "name": "stdout",
     "output_type": "stream",
     "text": [
      "\n",
      "Total Training Loss: 2052.32\n"
     ]
    },
    {
     "data": {
      "application/vnd.jupyter.widget-view+json": {
       "model_id": "ffc49e2c2be644dcbbe4ea7d36c96faf",
       "version_major": 2,
       "version_minor": 0
      },
      "text/plain": [
       "HBox(children=(FloatProgress(value=0.0, max=418.0), HTML(value='')))"
      ]
     },
     "metadata": {},
     "output_type": "display_data"
    },
    {
     "name": "stdout",
     "output_type": "stream",
     "text": [
      "\n",
      "Total Validation Loss: 685.72\n"
     ]
    },
    {
     "data": {
      "application/vnd.jupyter.widget-view+json": {
       "model_id": "8a17cec2b99343c2a8f4b84267447f03",
       "version_major": 2,
       "version_minor": 0
      },
      "text/plain": [
       "HBox(children=(FloatProgress(value=0.0, max=1253.0), HTML(value='')))"
      ]
     },
     "metadata": {},
     "output_type": "display_data"
    },
    {
     "name": "stdout",
     "output_type": "stream",
     "text": [
      "\n",
      "Total Training Loss: 2038.82\n"
     ]
    },
    {
     "data": {
      "application/vnd.jupyter.widget-view+json": {
       "model_id": "dd6f37a05d454d5980f860b96560623a",
       "version_major": 2,
       "version_minor": 0
      },
      "text/plain": [
       "HBox(children=(FloatProgress(value=0.0, max=418.0), HTML(value='')))"
      ]
     },
     "metadata": {},
     "output_type": "display_data"
    },
    {
     "name": "stdout",
     "output_type": "stream",
     "text": [
      "\n",
      "Total Validation Loss: 685.13\n"
     ]
    }
   ],
   "source": [
    "epochs = 10\n",
    "train_losses = []\n",
    "val_losses = []\n",
    "for epoch in range(1,epochs+1):\n",
    "    total_loss = 0\n",
    "    \n",
    "    model.train()\n",
    "    train_pgbar = tqdm(train_loader)\n",
    "    for idx, (note, chord) in enumerate(train_pgbar):\n",
    "        \n",
    "        pred = model(note)\n",
    "        loss = criterion(pred, chord.long())\n",
    "        optimizer.zero_grad()\n",
    "        \n",
    "        if loss.item() != 0:\n",
    "            loss.backward()\n",
    "            optimizer.step()\n",
    "        \n",
    "#         s = \"Epoch: {} Train Loss: {:.5f}\".format(epoch, loss.item())\n",
    "#         tqdm.write(s)\n",
    "        train_pgbar.set_postfix({'Epoch': epoch, 'Train Loss': \"{:.5f}\".format(loss.item())})\n",
    "        total_loss += loss.item()\n",
    "    print(\"Total Training Loss: %.2f\" % total_loss)\n",
    "    train_losses.append(total_loss/len(train_loader))\n",
    "    total_loss = 0\n",
    "    \n",
    "    model.eval()\n",
    "    val_pgbar = tqdm(val_loader)\n",
    "    for idx, (note, chord) in enumerate(val_pgbar):\n",
    "\n",
    "        pred = model(note)\n",
    "        loss= criterion(pred, chord.long())\n",
    "        \n",
    "#         s = \"Epoch: {} Val Loss: {:.5f}\".format(epoch, loss.item())\n",
    "#         tqdm.write(s)\n",
    "        val_pgbar.set_postfix({'Epoch': epoch, 'Val Loss': \"{:.5f}\".format(loss.item())})\n",
    "        total_loss += loss.item()\n",
    "    print(\"Total Validation Loss: %.2f\" % total_loss)\n",
    "    val_losses.append(total_loss/len(val_loader))"
   ]
  },
  {
   "cell_type": "code",
   "execution_count": 68,
   "metadata": {},
   "outputs": [],
   "source": [
    "import matplotlib.pyplot as plt"
   ]
  },
  {
   "cell_type": "code",
   "execution_count": 69,
   "metadata": {},
   "outputs": [
    {
     "data": {
      "image/png": "[encoded data removed]",
      "text/plain": [
       "<Figure size 432x288 with 1 Axes>"
      ]
     },
     "metadata": {
      "needs_background": "light"
     },
     "output_type": "display_data"
    }
   ],
   "source": [
    "fig = plt.figure()\n",
    "ax = fig.add_subplot(111)\n",
    "plt.plot(train_losses, color = \"b\", label = \"train\")\n",
    "plt.plot(val_losses, color = \"r\", label = \"val\")\n",
    "plt.legend(bbox_to_anchor=(1.05, 1), loc='upper left', borderaxespad=0.)\n",
    "ax.set_xlabel('epochs')\n",
    "ax.set_ylabel('cross entropy loss') \n",
    "xint = range(len(train_losses))\n",
    "\n",
    "plt.xticks(xint)\n",
    "plt.show()"
   ]
  },
  {
   "cell_type": "code",
   "execution_count": 70,
   "metadata": {},
   "outputs": [
    {
     "data": {
      "application/vnd.jupyter.widget-view+json": {
       "model_id": "b53ff47dd12743c2bd9f1e3ac3d69468",
       "version_major": 2,
       "version_minor": 0
      },
      "text/plain": [
       "HBox(children=(FloatProgress(value=0.0, max=418.0), HTML(value='')))"
      ]
     },
     "metadata": {},
     "output_type": "display_data"
    },
    {
     "name": "stdout",
     "output_type": "stream",
     "text": [
      "\n"
     ]
    }
   ],
   "source": [
    "model.eval()\n",
    "all_pred2 = []\n",
    "all_label2 = []\n",
    "for idx, (note, chord) in enumerate(tqdm(val_loader)):\n",
    "\n",
    "        pred = model(note)\n",
    "        pred = pred.detach().numpy().argmax(axis = 1)\n",
    "        label = chord.detach().numpy()\n",
    "        all_pred2.append(pred)\n",
    "        all_label2.append(label)"
   ]
  },
  {
   "cell_type": "code",
   "execution_count": 71,
   "metadata": {},
   "outputs": [],
   "source": [
    "all_pred2 = np.hstack(all_pred2)\n",
    "all_label2 = np.hstack(all_label2)"
   ]
  },
  {
   "cell_type": "code",
   "execution_count": 72,
   "metadata": {},
   "outputs": [
    {
     "data": {
      "text/plain": [
       "0.6032869122491764"
      ]
     },
     "execution_count": 72,
     "metadata": {},
     "output_type": "execute_result"
    }
   ],
   "source": [
    "np.sum(all_pred2 == all_label2)/len(all_pred2)"
   ]
  },
  {
   "cell_type": "code",
   "execution_count": 73,
   "metadata": {},
   "outputs": [],
   "source": [
    "co = Counter(chords)"
   ]
  },
  {
   "cell_type": "code",
   "execution_count": 74,
   "metadata": {},
   "outputs": [],
   "source": [
    "most_common_chord = list(list(zip(*co.most_common(20)))[0])"
   ]
  },
  {
   "cell_type": "code",
   "execution_count": 75,
   "metadata": {},
   "outputs": [],
   "source": [
    "decoded_chords = np.asarray([itov[ch] for ch in all_label2])\n",
    "decoded_preds = np.asarray([itov[ch] for ch in all_pred2])"
   ]
  },
  {
   "cell_type": "code",
   "execution_count": 76,
   "metadata": {},
   "outputs": [],
   "source": [
    "for i in range(len(decoded_preds)):\n",
    "    if decoded_preds[i] not in most_common_chord:\n",
    "        decoded_preds[i] = \"others\"\n",
    "    if decoded_chords[i] not in most_common_chord:\n",
    "        decoded_chords[i] = \"others\""
   ]
  },
  {
   "cell_type": "code",
   "execution_count": 77,
   "metadata": {},
   "outputs": [],
   "source": [
    "from sklearn.metrics import confusion_matrix, plot_confusion_matrix\n",
    "import seaborn as sn"
   ]
  },
  {
   "cell_type": "code",
   "execution_count": 78,
   "metadata": {},
   "outputs": [],
   "source": [
    "cm = confusion_matrix(decoded_chords, decoded_preds, normalize = \"true\", labels = most_common_chord + [\"others\"])"
   ]
  },
  {
   "cell_type": "code",
   "execution_count": 82,
   "metadata": {},
   "outputs": [
    {
     "data": {
      "image/png": "[encoded data removed]",
      "text/plain": [
       "<Figure size 936x720 with 2 Axes>"
      ]
     },
     "metadata": {
      "needs_background": "light"
     },
     "output_type": "display_data"
    }
   ],
   "source": [
    "fig, ax = plt.subplots(figsize=(13,10)) \n",
    "\n",
    "sn.heatmap(cm, annot=False)\n",
    "ax.set_xticklabels(most_common_chord + [\"others\"])\n",
    "ax.set_yticklabels(most_common_chord + [\"others\"])\n",
    "plt.yticks(rotation=0) \n",
    "plt.xticks(rotation=\"vertical\") \n",
    "plt.show()\n",
    "fig.savefig(\"confusion_bachhaydn_baseline.pdf\", format = \"pdf\")"
   ]
  },
  {
   "cell_type": "code",
   "execution_count": 80,
   "metadata": {},
   "outputs": [],
   "source": [
    "torch.save(model.state_dict(), \"baseline_bach_and_haydn.pt\")"
   ]
  },
  {
   "cell_type": "code",
   "execution_count": 46,
   "metadata": {},
   "outputs": [],
   "source": [
    "symbol, num = list(zip(*co.most_common(50)))\n",
    "symbol = list(symbol)\n",
    "num = list(num)"
   ]
  },
  {
   "cell_type": "code",
   "execution_count": 49,
   "metadata": {},
   "outputs": [],
   "source": [
    "symbol += ['others']\n",
    "num += [np.sum(list(co.values())) - np.sum(num)]"
   ]
  },
  {
   "cell_type": "code",
   "execution_count": 51,
   "metadata": {},
   "outputs": [],
   "source": [
    "num/=np.sum(num)"
   ]
  },
  {
   "cell_type": "code",
   "execution_count": 52,
   "metadata": {},
   "outputs": [
    {
     "data": {
      "image/png": "[encoded data removed]",
      "text/plain": [
       "<Figure size 936x720 with 1 Axes>"
      ]
     },
     "metadata": {
      "needs_background": "light"
     },
     "output_type": "display_data"
    }
   ],
   "source": [
    "plt.subplots(figsize=(13,10)) \n",
    "x_pos = [i for i, _ in enumerate(symbol)]\n",
    "\n",
    "plt.bar(x_pos, num)\n",
    "plt.xlabel(\"Chord Symbol\")\n",
    "plt.ylabel(\"Occurance\")\n",
    "plt.title(\"bach chorales Chord Distribution\")\n",
    "\n",
    "plt.xticks(x_pos, symbol, rotation = \"vertical\")\n",
    "\n",
    "plt.show()"
   ]
  },
  {
   "cell_type": "code",
   "execution_count": null,
   "metadata": {},
   "outputs": [],
   "source": []
  }
 ],
 "metadata": {
  "kernelspec": {
   "display_name": "Python 3",
   "language": "python",
   "name": "python3"
  },
  "language_info": {
   "codemirror_mode": {
    "name": "ipython",
    "version": 3
   },
   "file_extension": ".py",
   "mimetype": "text/x-python",
   "name": "python",
   "nbconvert_exporter": "python",
   "pygments_lexer": "ipython3",
   "version": "3.7.7"
  }
 },
 "nbformat": 4,
 "nbformat_minor": 4
}
