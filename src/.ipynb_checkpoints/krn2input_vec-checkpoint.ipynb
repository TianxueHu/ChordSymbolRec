{
 "cells": [
  {
   "cell_type": "code",
   "execution_count": 1,
   "metadata": {},
   "outputs": [],
   "source": [
    "import os\n",
    "from music21 import *"
   ]
  },
  {
   "cell_type": "code",
   "execution_count": 11,
   "metadata": {},
   "outputs": [
    {
     "ename": "FileNotFoundError",
     "evalue": "[Errno 2] No such file or directory: '../datasets/haydn_op20_harm/haydn_final_scores'",
     "output_type": "error",
     "traceback": [
      "\u001b[0;31m---------------------------------------------------------------------------\u001b[0m",
      "\u001b[0;31mFileNotFoundError\u001b[0m                         Traceback (most recent call last)",
      "\u001b[0;32m<ipython-input-11-99c67e324dca>\u001b[0m in \u001b[0;36m<module>\u001b[0;34m\u001b[0m\n\u001b[1;32m      1\u001b[0m \u001b[0;31m#os.chdir(\"../datasets/bhchorale/bach_final_scores\")\u001b[0m\u001b[0;34m\u001b[0m\u001b[0;34m\u001b[0m\u001b[0;34m\u001b[0m\u001b[0m\n\u001b[0;32m----> 2\u001b[0;31m \u001b[0mos\u001b[0m\u001b[0;34m.\u001b[0m\u001b[0mchdir\u001b[0m\u001b[0;34m(\u001b[0m\u001b[0;34m\"../datasets/haydn_op20_harm/haydn_final_scores\"\u001b[0m\u001b[0;34m)\u001b[0m\u001b[0;34m\u001b[0m\u001b[0;34m\u001b[0m\u001b[0m\n\u001b[0m",
      "\u001b[0;31mFileNotFoundError\u001b[0m: [Errno 2] No such file or directory: '../datasets/haydn_op20_harm/haydn_final_scores'"
     ]
    }
   ],
   "source": [
    "#os.chdir(\"../datasets/bhchorale/bach_final_scores\")\n",
    "os.chdir(\"../datasets/haydn_op20_harm/haydn_final_scores\")\n"
   ]
  },
  {
   "cell_type": "code",
   "execution_count": 9,
   "metadata": {},
   "outputs": [
    {
     "ename": "ConverterException",
     "evalue": "File not found or no such format found for: 3_i_score_reduced.krn",
     "output_type": "error",
     "traceback": [
      "\u001b[0;31m---------------------------------------------------------------------------\u001b[0m",
      "\u001b[0;31mConverterException\u001b[0m                        Traceback (most recent call last)",
      "\u001b[0;32m<ipython-input-9-0b56929a27cf>\u001b[0m in \u001b[0;36m<module>\u001b[0;34m\u001b[0m\n\u001b[1;32m      1\u001b[0m \u001b[0;31m#read .krn\u001b[0m\u001b[0;34m\u001b[0m\u001b[0;34m\u001b[0m\u001b[0;34m\u001b[0m\u001b[0m\n\u001b[1;32m      2\u001b[0m \u001b[0;31m#s = converter.parse('chor001_score_reduced4.krn')\u001b[0m\u001b[0;34m\u001b[0m\u001b[0;34m\u001b[0m\u001b[0;34m\u001b[0m\u001b[0m\n\u001b[0;32m----> 3\u001b[0;31m \u001b[0ms\u001b[0m \u001b[0;34m=\u001b[0m \u001b[0mconverter\u001b[0m\u001b[0;34m.\u001b[0m\u001b[0mparse\u001b[0m\u001b[0;34m(\u001b[0m\u001b[0;34m\"3_i_score_reduced.krn\"\u001b[0m\u001b[0;34m)\u001b[0m\u001b[0;34m\u001b[0m\u001b[0;34m\u001b[0m\u001b[0m\n\u001b[0m\u001b[1;32m      4\u001b[0m \u001b[0ms\u001b[0m\u001b[0;34m.\u001b[0m\u001b[0mshow\u001b[0m\u001b[0;34m(\u001b[0m\u001b[0;34m)\u001b[0m\u001b[0;34m\u001b[0m\u001b[0;34m\u001b[0m\u001b[0m\n",
      "\u001b[0;32m/opt/anaconda3/lib/python3.7/site-packages/music21/converter/__init__.py\u001b[0m in \u001b[0;36mparse\u001b[0;34m(value, *args, **keywords)\u001b[0m\n\u001b[1;32m   1141\u001b[0m         \u001b[0;32mraise\u001b[0m \u001b[0mFileNotFoundError\u001b[0m\u001b[0;34m(\u001b[0m\u001b[0;34m'Cannot find file in {:s}'\u001b[0m\u001b[0;34m.\u001b[0m\u001b[0mformat\u001b[0m\u001b[0;34m(\u001b[0m\u001b[0mstr\u001b[0m\u001b[0;34m(\u001b[0m\u001b[0mvalue\u001b[0m\u001b[0;34m)\u001b[0m\u001b[0;34m)\u001b[0m\u001b[0;34m)\u001b[0m\u001b[0;34m\u001b[0m\u001b[0;34m\u001b[0m\u001b[0m\n\u001b[1;32m   1142\u001b[0m     \u001b[0;32melse\u001b[0m\u001b[0;34m:\u001b[0m\u001b[0;34m\u001b[0m\u001b[0;34m\u001b[0m\u001b[0m\n\u001b[0;32m-> 1143\u001b[0;31m         \u001b[0;32mreturn\u001b[0m \u001b[0mparseData\u001b[0m\u001b[0;34m(\u001b[0m\u001b[0mvalue\u001b[0m\u001b[0;34m,\u001b[0m \u001b[0mnumber\u001b[0m\u001b[0;34m=\u001b[0m\u001b[0mnumber\u001b[0m\u001b[0;34m,\u001b[0m \u001b[0mformat\u001b[0m\u001b[0;34m=\u001b[0m\u001b[0mm21Format\u001b[0m\u001b[0;34m,\u001b[0m \u001b[0;34m**\u001b[0m\u001b[0mkeywords\u001b[0m\u001b[0;34m)\u001b[0m\u001b[0;34m\u001b[0m\u001b[0;34m\u001b[0m\u001b[0m\n\u001b[0m\u001b[1;32m   1144\u001b[0m \u001b[0;34m\u001b[0m\u001b[0m\n\u001b[1;32m   1145\u001b[0m \u001b[0;34m\u001b[0m\u001b[0m\n",
      "\u001b[0;32m/opt/anaconda3/lib/python3.7/site-packages/music21/converter/__init__.py\u001b[0m in \u001b[0;36mparseData\u001b[0;34m(dataStr, number, format, **keywords)\u001b[0m\n\u001b[1;32m   1017\u001b[0m     '''\n\u001b[1;32m   1018\u001b[0m     \u001b[0mv\u001b[0m \u001b[0;34m=\u001b[0m \u001b[0mConverter\u001b[0m\u001b[0;34m(\u001b[0m\u001b[0;34m)\u001b[0m\u001b[0;34m\u001b[0m\u001b[0;34m\u001b[0m\u001b[0m\n\u001b[0;32m-> 1019\u001b[0;31m     \u001b[0mv\u001b[0m\u001b[0;34m.\u001b[0m\u001b[0mparseData\u001b[0m\u001b[0;34m(\u001b[0m\u001b[0mdataStr\u001b[0m\u001b[0;34m,\u001b[0m \u001b[0mnumber\u001b[0m\u001b[0;34m=\u001b[0m\u001b[0mnumber\u001b[0m\u001b[0;34m,\u001b[0m \u001b[0mformat\u001b[0m\u001b[0;34m=\u001b[0m\u001b[0mformat\u001b[0m\u001b[0;34m,\u001b[0m \u001b[0;34m**\u001b[0m\u001b[0mkeywords\u001b[0m\u001b[0;34m)\u001b[0m\u001b[0;34m\u001b[0m\u001b[0;34m\u001b[0m\u001b[0m\n\u001b[0m\u001b[1;32m   1020\u001b[0m     \u001b[0;32mreturn\u001b[0m \u001b[0mv\u001b[0m\u001b[0;34m.\u001b[0m\u001b[0mstream\u001b[0m\u001b[0;34m\u001b[0m\u001b[0;34m\u001b[0m\u001b[0m\n\u001b[1;32m   1021\u001b[0m \u001b[0;34m\u001b[0m\u001b[0m\n",
      "\u001b[0;32m/opt/anaconda3/lib/python3.7/site-packages/music21/converter/__init__.py\u001b[0m in \u001b[0;36mparseData\u001b[0;34m(self, dataStr, number, format, forceSource, **keywords)\u001b[0m\n\u001b[1;32m    606\u001b[0m             \u001b[0;32melse\u001b[0m\u001b[0;34m:\u001b[0m\u001b[0;34m\u001b[0m\u001b[0;34m\u001b[0m\u001b[0m\n\u001b[1;32m    607\u001b[0m                 raise ConverterException('File not found or no such format found for: %s' %\n\u001b[0;32m--> 608\u001b[0;31m                                          dataStrMakeStr)\n\u001b[0m\u001b[1;32m    609\u001b[0m \u001b[0;34m\u001b[0m\u001b[0m\n\u001b[1;32m    610\u001b[0m         \u001b[0mself\u001b[0m\u001b[0;34m.\u001b[0m\u001b[0msetSubconverterFromFormat\u001b[0m\u001b[0;34m(\u001b[0m\u001b[0museFormat\u001b[0m\u001b[0;34m)\u001b[0m\u001b[0;34m\u001b[0m\u001b[0;34m\u001b[0m\u001b[0m\n",
      "\u001b[0;31mConverterException\u001b[0m: File not found or no such format found for: 3_i_score_reduced.krn"
     ]
    }
   ],
   "source": [
    "#read .krn\n",
    "#s = converter.parse('chor001_score_reduced4.krn')\n",
    "s = converter.parse(\"3_i_score_reduced.krn\")\n",
    "s.show()"
   ]
  },
  {
   "cell_type": "code",
   "execution_count": 7,
   "metadata": {},
   "outputs": [
    {
     "name": "stdout",
     "output_type": "stream",
     "text": [
      "0 3 <music21.chord.Chord G2 B3 D4 G4>\n",
      "1 1 <music21.chord.Chord G3 B3 D4 G4>\n",
      "1 2 <music21.chord.Chord E3 C4 E4 G4>\n",
      "1 2 1/2 <music21.chord.Chord E3 E4 G4>\n",
      "1 3 <music21.chord.Chord F#3 A3 D4 D5>\n",
      "2 1 <music21.chord.Chord G3 D4 B4>\n",
      "2 2 <music21.chord.Chord D3 F#3 D4 B4>\n",
      "2 2 1/2 <music21.chord.Chord D3 F#3 D4>\n",
      "2 3 <music21.chord.Chord E3 G3 B3 G4>\n",
      "3 1 <music21.chord.Chord C3 C4 E4 G4>\n",
      "3 1 1/2 <music21.chord.Chord C3 G4>\n",
      "3 2 <music21.chord.Chord B2 C4 E4 G4>\n",
      "3 2 1/2 <music21.chord.Chord C4>\n",
      "3 3 <music21.chord.Chord G2 D4 G4 B4>\n",
      "4 1 <music21.chord.Chord D3 D4 F#4 A4>\n",
      "4 3 <music21.chord.Chord G2 D4 G4 B4>\n",
      "5 1 <music21.chord.Chord F#2 A3 D4 D5>\n",
      "5 2 <music21.chord.Chord G2 B3 E4 D5>\n",
      "5 3 <music21.chord.Chord A2 C4 F#4 C5>\n",
      "6 1 <music21.chord.Chord B2 D4 G4 B4>\n",
      "6 2 <music21.chord.Chord C3 E4 G4 A4>\n",
      "6 3 <music21.chord.Chord D3 D4 F#4 A4>\n",
      "6 3 1/2 <music21.chord.Chord D3 F#4 A4>\n",
      "7 1 <music21.chord.Chord G2 B3 D4 G4>\n",
      "0 1 <music21.chord.Chord G2 D4 G4 B4>\n",
      "8 1 <music21.chord.Chord G2 D4 G4 B4>\n",
      "8 1 1/2 <music21.chord.Chord G2 D4 B4>\n",
      "8 2 <music21.chord.Chord A2 C4 E4 C5>\n",
      "8 2 1/2 <music21.chord.Chord A2 C4 C5>\n",
      "8 3 <music21.chord.Chord B2 B3 G4 D5>\n",
      "8 3 1/2 <music21.chord.Chord B2 G4 D5>\n",
      "9 1 <music21.chord.Chord B2 B3 G4 D5>\n",
      "9 1 1/2 <music21.chord.Chord B2 D5>\n",
      "9 2 <music21.chord.Chord B2 D4 G4 D5>\n",
      "9 2 1/2 <music21.chord.Chord D4>\n",
      "9 3 <music21.chord.Chord G2 D4 G4 B4>\n",
      "10 1 <music21.chord.Chord D3 D4 F#4 A4>\n",
      "10 3 <music21.chord.Chord E3 B3 E4 G4>\n",
      "11 1 <music21.chord.Chord E3 G3 E4 B4>\n",
      "11 2 <music21.chord.Chord D3 B3 F#4 B4>\n",
      "11 2 1/2 <music21.chord.Chord D3 B3 B4>\n",
      "11 3 <music21.chord.Chord C3 E4 A4 C5>\n",
      "12 1 <music21.chord.Chord B2 D4 A4 D5>\n",
      "12 2 <music21.chord.Chord B2 D4 G4 D5>\n",
      "12 2 1/2 <music21.chord.Chord D4 G4 D5>\n",
      "12 3 <music21.chord.Chord D3 D4 G4 C5>\n",
      "12 3 1/2 <music21.chord.Chord D3 D4 C5>\n",
      "13 1 <music21.chord.Chord G2 D4 G4 B4>\n",
      "13 1 1/2 <music21.chord.Chord D4 G4 B4>\n",
      "13 2 <music21.chord.Chord B2 D4 G4 B4>\n",
      "13 3 <music21.chord.Chord G2 D4 F4 B4>\n",
      "14 1 <music21.chord.Chord C3 C4 E4 G4>\n",
      "14 3 <music21.chord.Chord G2 D4 G4 B4>\n",
      "15 1 <music21.chord.Chord F#2 D4 A4 D5>\n",
      "15 1 1/2 <music21.chord.Chord F#2 A4 D5>\n",
      "15 2 <music21.chord.Chord G2 B3 A4 D5>\n",
      "15 2 1/2 <music21.chord.Chord G2 B3 D5>\n",
      "15 3 <music21.chord.Chord A2 C4 F#4 C5>\n",
      "16 1 <music21.chord.Chord B2 D4 G4 B4>\n",
      "16 2 <music21.chord.Chord G2 D4 G4 B4>\n",
      "16 3 <music21.chord.Chord D3 D4 F#4 A4>\n",
      "16 3 1/2 <music21.chord.Chord D3 F#4 A4>\n",
      "17 1 <music21.chord.Chord E3 B3 F#4 G4>\n",
      "17 1 1/2 <music21.chord.Chord B3 E4 G4>\n",
      "17 2 <music21.chord.Chord C3 C4 E4 G4>\n",
      "17 2 1/2 <music21.chord.Chord C4>\n",
      "17 3 <music21.chord.Chord A2 D4 G4 B4>\n",
      "17 3 1/2 <music21.chord.Chord G2 D4 G4 B4>\n",
      "18 1 <music21.chord.Chord D3 D4 F#4 A4>\n",
      "18 3 <music21.chord.Chord G3 D4 G4 B4>\n",
      "19 1 <music21.chord.Chord G3 D4 A4 D5>\n",
      "19 2 <music21.chord.Chord F#3 D4 A4 D5>\n",
      "19 3 <music21.chord.Chord E3 E4 G4 C5>\n",
      "19 3 1/2 <music21.chord.Chord E3 E4 C5>\n",
      "20 1 <music21.chord.Chord E3 E4 G4 B4>\n",
      "20 1 1/2 <music21.chord.Chord E4 G4 B4>\n",
      "20 2 <music21.chord.Chord C3 E4 G4 A4>\n",
      "20 3 <music21.chord.Chord D3 D4 F#4 A4>\n",
      "20 3 1/2 <music21.chord.Chord D3 F#4 A4>\n",
      "21 1 <music21.chord.Chord G2 B3 D4 G4>\n"
     ]
    }
   ],
   "source": [
    "#use chordify to extract onset slices\n",
    "chord = s.chordify()\n",
    "for thisChord in chord.recurse().getElementsByClass('Chord'):\n",
    "    print(thisChord.measureNumber, thisChord.beatStr, thisChord)"
   ]
  },
  {
   "cell_type": "code",
   "execution_count": null,
   "metadata": {},
   "outputs": [],
   "source": []
  }
 ],
 "metadata": {
  "kernelspec": {
   "display_name": "Python 3",
   "language": "python",
   "name": "python3"
  },
  "language_info": {
   "codemirror_mode": {
    "name": "ipython",
    "version": 3
   },
   "file_extension": ".py",
   "mimetype": "text/x-python",
   "name": "python",
   "nbconvert_exporter": "python",
   "pygments_lexer": "ipython3",
   "version": "3.7.6"
  }
 },
 "nbformat": 4,
 "nbformat_minor": 4
}
