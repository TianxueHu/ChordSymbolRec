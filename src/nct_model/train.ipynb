{
 "cells": [
  {
   "cell_type": "code",
   "execution_count": 77,
   "metadata": {},
   "outputs": [],
   "source": [
    "import pandas as pd\n",
    "import matplotlib.pyplot as plt\n",
    "from sklearn.linear_model import LogisticRegression\n",
    "from sklearn.model_selection import train_test_split\n",
    "from sklearn.preprocessing import PolynomialFeatures\n",
    "from sklearn import metrics \n",
    "from sklearn.preprocessing import StandardScaler"
   ]
  },
  {
   "cell_type": "markdown",
   "metadata": {},
   "source": [
    "# Reproduce the NCT model in python"
   ]
  },
  {
   "cell_type": "code",
   "execution_count": 78,
   "metadata": {},
   "outputs": [
    {
     "data": {
      "text/html": [
       "<div>\n",
       "<style scoped>\n",
       "    .dataframe tbody tr th:only-of-type {\n",
       "        vertical-align: middle;\n",
       "    }\n",
       "\n",
       "    .dataframe tbody tr th {\n",
       "        vertical-align: top;\n",
       "    }\n",
       "\n",
       "    .dataframe thead th {\n",
       "        text-align: right;\n",
       "    }\n",
       "</style>\n",
       "<table border=\"1\" class=\"dataframe\">\n",
       "  <thead>\n",
       "    <tr style=\"text-align: right;\">\n",
       "      <th></th>\n",
       "      <th>duration</th>\n",
       "      <th>onOffBeat</th>\n",
       "      <th>ArrSkiSteLeap</th>\n",
       "      <th>DepSkiSteLeap</th>\n",
       "      <th>Response</th>\n",
       "    </tr>\n",
       "  </thead>\n",
       "  <tbody>\n",
       "    <tr>\n",
       "      <th>0</th>\n",
       "      <td>2.0</td>\n",
       "      <td>onbeat</td>\n",
       "      <td>unison</td>\n",
       "      <td>skip</td>\n",
       "      <td>1</td>\n",
       "    </tr>\n",
       "    <tr>\n",
       "      <th>1</th>\n",
       "      <td>1.0</td>\n",
       "      <td>onbeat</td>\n",
       "      <td>skip</td>\n",
       "      <td>step</td>\n",
       "      <td>0</td>\n",
       "    </tr>\n",
       "    <tr>\n",
       "      <th>2</th>\n",
       "      <td>0.5</td>\n",
       "      <td>onbeat</td>\n",
       "      <td>step</td>\n",
       "      <td>step</td>\n",
       "      <td>0</td>\n",
       "    </tr>\n",
       "    <tr>\n",
       "      <th>3</th>\n",
       "      <td>0.5</td>\n",
       "      <td>offbeat</td>\n",
       "      <td>step</td>\n",
       "      <td>leap</td>\n",
       "      <td>1</td>\n",
       "    </tr>\n",
       "    <tr>\n",
       "      <th>4</th>\n",
       "      <td>1.0</td>\n",
       "      <td>onbeat</td>\n",
       "      <td>leap</td>\n",
       "      <td>step</td>\n",
       "      <td>0</td>\n",
       "    </tr>\n",
       "  </tbody>\n",
       "</table>\n",
       "</div>"
      ],
      "text/plain": [
       "   duration onOffBeat ArrSkiSteLeap DepSkiSteLeap  Response\n",
       "0       2.0    onbeat        unison          skip         1\n",
       "1       1.0    onbeat          skip          step         0\n",
       "2       0.5    onbeat          step          step         0\n",
       "3       0.5   offbeat          step          leap         1\n",
       "4       1.0    onbeat          leap          step         0"
      ]
     },
     "execution_count": 78,
     "metadata": {},
     "output_type": "execute_result"
    }
   ],
   "source": [
    "# load training data - themes\n",
    "train = pd.read_csv('../../datasets/nct_datasets/tavern_factors.csv')\n",
    "train_df = train[['duration','onOffBeat','ArrSkiSteLeap','DepSkiSteLeap','Response']]\n",
    "train_df.head()"
   ]
  },
  {
   "cell_type": "code",
   "execution_count": 79,
   "metadata": {},
   "outputs": [
    {
     "data": {
      "text/html": [
       "<div>\n",
       "<style scoped>\n",
       "    .dataframe tbody tr th:only-of-type {\n",
       "        vertical-align: middle;\n",
       "    }\n",
       "\n",
       "    .dataframe tbody tr th {\n",
       "        vertical-align: top;\n",
       "    }\n",
       "\n",
       "    .dataframe thead th {\n",
       "        text-align: right;\n",
       "    }\n",
       "</style>\n",
       "<table border=\"1\" class=\"dataframe\">\n",
       "  <thead>\n",
       "    <tr style=\"text-align: right;\">\n",
       "      <th></th>\n",
       "      <th>duration</th>\n",
       "      <th>onOffBeat</th>\n",
       "      <th>ArrSkiSteLeap</th>\n",
       "      <th>DepSkiSteLeap</th>\n",
       "      <th>Response</th>\n",
       "    </tr>\n",
       "  </thead>\n",
       "  <tbody>\n",
       "    <tr>\n",
       "      <th>0</th>\n",
       "      <td>1.0</td>\n",
       "      <td>onbeat</td>\n",
       "      <td>unison</td>\n",
       "      <td>step</td>\n",
       "      <td>1</td>\n",
       "    </tr>\n",
       "    <tr>\n",
       "      <th>1</th>\n",
       "      <td>0.5</td>\n",
       "      <td>onbeat</td>\n",
       "      <td>step</td>\n",
       "      <td>skip</td>\n",
       "      <td>0</td>\n",
       "    </tr>\n",
       "    <tr>\n",
       "      <th>2</th>\n",
       "      <td>0.5</td>\n",
       "      <td>offbeat</td>\n",
       "      <td>skip</td>\n",
       "      <td>step</td>\n",
       "      <td>0</td>\n",
       "    </tr>\n",
       "    <tr>\n",
       "      <th>3</th>\n",
       "      <td>1.0</td>\n",
       "      <td>onbeat</td>\n",
       "      <td>step</td>\n",
       "      <td>step</td>\n",
       "      <td>1</td>\n",
       "    </tr>\n",
       "    <tr>\n",
       "      <th>4</th>\n",
       "      <td>0.5</td>\n",
       "      <td>onbeat</td>\n",
       "      <td>step</td>\n",
       "      <td>skip</td>\n",
       "      <td>0</td>\n",
       "    </tr>\n",
       "  </tbody>\n",
       "</table>\n",
       "</div>"
      ],
      "text/plain": [
       "   duration onOffBeat ArrSkiSteLeap DepSkiSteLeap  Response\n",
       "0       1.0    onbeat        unison          step         1\n",
       "1       0.5    onbeat          step          skip         0\n",
       "2       0.5   offbeat          skip          step         0\n",
       "3       1.0    onbeat          step          step         1\n",
       "4       0.5    onbeat          step          skip         0"
      ]
     },
     "execution_count": 79,
     "metadata": {},
     "output_type": "execute_result"
    }
   ],
   "source": [
    "#load testing data - haydn\n",
    "test = pd.read_csv('../../datasets/nct_datasets/haydn_factors.csv')\n",
    "test_df = test[['duration','onOffBeat','ArrSkiSteLeap','DepSkiSteLeap','Response']]\n",
    "test_df.head()"
   ]
  },
  {
   "cell_type": "code",
   "execution_count": 80,
   "metadata": {},
   "outputs": [
    {
     "name": "stderr",
     "output_type": "stream",
     "text": [
      "/opt/anaconda3/lib/python3.7/site-packages/ipykernel_launcher.py:3: SettingWithCopyWarning: \n",
      "A value is trying to be set on a copy of a slice from a DataFrame.\n",
      "Try using .loc[row_indexer,col_indexer] = value instead\n",
      "\n",
      "See the caveats in the documentation: https://pandas.pydata.org/pandas-docs/stable/user_guide/indexing.html#returning-a-view-versus-a-copy\n",
      "  This is separate from the ipykernel package so we can avoid doing imports until\n",
      "/opt/anaconda3/lib/python3.7/site-packages/ipykernel_launcher.py:4: SettingWithCopyWarning: \n",
      "A value is trying to be set on a copy of a slice from a DataFrame.\n",
      "Try using .loc[row_indexer,col_indexer] = value instead\n",
      "\n",
      "See the caveats in the documentation: https://pandas.pydata.org/pandas-docs/stable/user_guide/indexing.html#returning-a-view-versus-a-copy\n",
      "  after removing the cwd from sys.path.\n",
      "/opt/anaconda3/lib/python3.7/site-packages/ipykernel_launcher.py:5: SettingWithCopyWarning: \n",
      "A value is trying to be set on a copy of a slice from a DataFrame.\n",
      "Try using .loc[row_indexer,col_indexer] = value instead\n",
      "\n",
      "See the caveats in the documentation: https://pandas.pydata.org/pandas-docs/stable/user_guide/indexing.html#returning-a-view-versus-a-copy\n",
      "  \"\"\"\n",
      "/opt/anaconda3/lib/python3.7/site-packages/ipykernel_launcher.py:6: SettingWithCopyWarning: \n",
      "A value is trying to be set on a copy of a slice from a DataFrame.\n",
      "Try using .loc[row_indexer,col_indexer] = value instead\n",
      "\n",
      "See the caveats in the documentation: https://pandas.pydata.org/pandas-docs/stable/user_guide/indexing.html#returning-a-view-versus-a-copy\n",
      "  \n"
     ]
    }
   ],
   "source": [
    "#pre-processing \n",
    "mint = {'unison':'unison','skip': 'leap','step':'step','leap':'leap'}\n",
    "train_df['ArrSkiSteLeap'] = train_df['ArrSkiSteLeap'].apply(lambda x: mint[x])\n",
    "train_df['DepSkiSteLeap'] = train_df['DepSkiSteLeap'].apply(lambda x: mint[x])\n",
    "test_df['ArrSkiSteLeap'] = test_df['ArrSkiSteLeap'].apply(lambda x: mint[x])\n",
    "test_df['DepSkiSteLeap'] = test_df['DepSkiSteLeap'].apply(lambda x: mint[x])"
   ]
  },
  {
   "cell_type": "code",
   "execution_count": 81,
   "metadata": {},
   "outputs": [],
   "source": [
    "X_train = train_df.drop('Response', axis=1)\n",
    "y_train = train_df['Response']\n",
    "X_test = test_df.drop('Response', axis=1)\n",
    "y_test = test_df['Response']"
   ]
  },
  {
   "cell_type": "code",
   "execution_count": 82,
   "metadata": {},
   "outputs": [
    {
     "data": {
      "text/html": [
       "<div>\n",
       "<style scoped>\n",
       "    .dataframe tbody tr th:only-of-type {\n",
       "        vertical-align: middle;\n",
       "    }\n",
       "\n",
       "    .dataframe tbody tr th {\n",
       "        vertical-align: top;\n",
       "    }\n",
       "\n",
       "    .dataframe thead th {\n",
       "        text-align: right;\n",
       "    }\n",
       "</style>\n",
       "<table border=\"1\" class=\"dataframe\">\n",
       "  <thead>\n",
       "    <tr style=\"text-align: right;\">\n",
       "      <th></th>\n",
       "      <th>duration</th>\n",
       "      <th>onOffBeat_offbeat</th>\n",
       "      <th>onOffBeat_onbeat</th>\n",
       "      <th>ArrSkiSteLeap_leap</th>\n",
       "      <th>ArrSkiSteLeap_step</th>\n",
       "      <th>ArrSkiSteLeap_unison</th>\n",
       "      <th>DepSkiSteLeap_leap</th>\n",
       "      <th>DepSkiSteLeap_step</th>\n",
       "      <th>DepSkiSteLeap_unison</th>\n",
       "    </tr>\n",
       "  </thead>\n",
       "  <tbody>\n",
       "    <tr>\n",
       "      <th>0</th>\n",
       "      <td>2.0</td>\n",
       "      <td>0</td>\n",
       "      <td>1</td>\n",
       "      <td>0</td>\n",
       "      <td>0</td>\n",
       "      <td>1</td>\n",
       "      <td>1</td>\n",
       "      <td>0</td>\n",
       "      <td>0</td>\n",
       "    </tr>\n",
       "    <tr>\n",
       "      <th>1</th>\n",
       "      <td>1.0</td>\n",
       "      <td>0</td>\n",
       "      <td>1</td>\n",
       "      <td>1</td>\n",
       "      <td>0</td>\n",
       "      <td>0</td>\n",
       "      <td>0</td>\n",
       "      <td>1</td>\n",
       "      <td>0</td>\n",
       "    </tr>\n",
       "    <tr>\n",
       "      <th>2</th>\n",
       "      <td>0.5</td>\n",
       "      <td>0</td>\n",
       "      <td>1</td>\n",
       "      <td>0</td>\n",
       "      <td>1</td>\n",
       "      <td>0</td>\n",
       "      <td>0</td>\n",
       "      <td>1</td>\n",
       "      <td>0</td>\n",
       "    </tr>\n",
       "    <tr>\n",
       "      <th>3</th>\n",
       "      <td>0.5</td>\n",
       "      <td>1</td>\n",
       "      <td>0</td>\n",
       "      <td>0</td>\n",
       "      <td>1</td>\n",
       "      <td>0</td>\n",
       "      <td>1</td>\n",
       "      <td>0</td>\n",
       "      <td>0</td>\n",
       "    </tr>\n",
       "    <tr>\n",
       "      <th>4</th>\n",
       "      <td>1.0</td>\n",
       "      <td>0</td>\n",
       "      <td>1</td>\n",
       "      <td>1</td>\n",
       "      <td>0</td>\n",
       "      <td>0</td>\n",
       "      <td>0</td>\n",
       "      <td>1</td>\n",
       "      <td>0</td>\n",
       "    </tr>\n",
       "  </tbody>\n",
       "</table>\n",
       "</div>"
      ],
      "text/plain": [
       "   duration  onOffBeat_offbeat  onOffBeat_onbeat  ArrSkiSteLeap_leap  \\\n",
       "0       2.0                  0                 1                   0   \n",
       "1       1.0                  0                 1                   1   \n",
       "2       0.5                  0                 1                   0   \n",
       "3       0.5                  1                 0                   0   \n",
       "4       1.0                  0                 1                   1   \n",
       "\n",
       "   ArrSkiSteLeap_step  ArrSkiSteLeap_unison  DepSkiSteLeap_leap  \\\n",
       "0                   0                     1                   1   \n",
       "1                   0                     0                   0   \n",
       "2                   1                     0                   0   \n",
       "3                   1                     0                   1   \n",
       "4                   0                     0                   0   \n",
       "\n",
       "   DepSkiSteLeap_step  DepSkiSteLeap_unison  \n",
       "0                   0                     0  \n",
       "1                   1                     0  \n",
       "2                   1                     0  \n",
       "3                   0                     0  \n",
       "4                   1                     0  "
      ]
     },
     "execution_count": 82,
     "metadata": {},
     "output_type": "execute_result"
    }
   ],
   "source": [
    "# transfer dummy variables into one-hot encoding - training set\n",
    "X_train_en = pd.get_dummies(X_train, columns=['onOffBeat'], drop_first=False)\n",
    "X_train_en1 = pd.get_dummies(X_train_en, columns=['ArrSkiSteLeap'], drop_first=False)\n",
    "X_train_en2 = pd.get_dummies(X_train_en1, columns=['DepSkiSteLeap'], drop_first=False)\n",
    "X_train = X_train_en2\n",
    "X_train.head()"
   ]
  },
  {
   "cell_type": "code",
   "execution_count": 83,
   "metadata": {},
   "outputs": [
    {
     "data": {
      "text/html": [
       "<div>\n",
       "<style scoped>\n",
       "    .dataframe tbody tr th:only-of-type {\n",
       "        vertical-align: middle;\n",
       "    }\n",
       "\n",
       "    .dataframe tbody tr th {\n",
       "        vertical-align: top;\n",
       "    }\n",
       "\n",
       "    .dataframe thead th {\n",
       "        text-align: right;\n",
       "    }\n",
       "</style>\n",
       "<table border=\"1\" class=\"dataframe\">\n",
       "  <thead>\n",
       "    <tr style=\"text-align: right;\">\n",
       "      <th></th>\n",
       "      <th>duration</th>\n",
       "      <th>onOffBeat_offbeat</th>\n",
       "      <th>onOffBeat_onbeat</th>\n",
       "      <th>ArrSkiSteLeap_leap</th>\n",
       "      <th>ArrSkiSteLeap_step</th>\n",
       "      <th>ArrSkiSteLeap_unison</th>\n",
       "      <th>DepSkiSteLeap_leap</th>\n",
       "      <th>DepSkiSteLeap_step</th>\n",
       "      <th>DepSkiSteLeap_unison</th>\n",
       "    </tr>\n",
       "  </thead>\n",
       "  <tbody>\n",
       "    <tr>\n",
       "      <th>0</th>\n",
       "      <td>1.0</td>\n",
       "      <td>0</td>\n",
       "      <td>1</td>\n",
       "      <td>0</td>\n",
       "      <td>0</td>\n",
       "      <td>1</td>\n",
       "      <td>0</td>\n",
       "      <td>1</td>\n",
       "      <td>0</td>\n",
       "    </tr>\n",
       "    <tr>\n",
       "      <th>1</th>\n",
       "      <td>0.5</td>\n",
       "      <td>0</td>\n",
       "      <td>1</td>\n",
       "      <td>0</td>\n",
       "      <td>1</td>\n",
       "      <td>0</td>\n",
       "      <td>1</td>\n",
       "      <td>0</td>\n",
       "      <td>0</td>\n",
       "    </tr>\n",
       "    <tr>\n",
       "      <th>2</th>\n",
       "      <td>0.5</td>\n",
       "      <td>1</td>\n",
       "      <td>0</td>\n",
       "      <td>1</td>\n",
       "      <td>0</td>\n",
       "      <td>0</td>\n",
       "      <td>0</td>\n",
       "      <td>1</td>\n",
       "      <td>0</td>\n",
       "    </tr>\n",
       "    <tr>\n",
       "      <th>3</th>\n",
       "      <td>1.0</td>\n",
       "      <td>0</td>\n",
       "      <td>1</td>\n",
       "      <td>0</td>\n",
       "      <td>1</td>\n",
       "      <td>0</td>\n",
       "      <td>0</td>\n",
       "      <td>1</td>\n",
       "      <td>0</td>\n",
       "    </tr>\n",
       "    <tr>\n",
       "      <th>4</th>\n",
       "      <td>0.5</td>\n",
       "      <td>0</td>\n",
       "      <td>1</td>\n",
       "      <td>0</td>\n",
       "      <td>1</td>\n",
       "      <td>0</td>\n",
       "      <td>1</td>\n",
       "      <td>0</td>\n",
       "      <td>0</td>\n",
       "    </tr>\n",
       "  </tbody>\n",
       "</table>\n",
       "</div>"
      ],
      "text/plain": [
       "   duration  onOffBeat_offbeat  onOffBeat_onbeat  ArrSkiSteLeap_leap  \\\n",
       "0       1.0                  0                 1                   0   \n",
       "1       0.5                  0                 1                   0   \n",
       "2       0.5                  1                 0                   1   \n",
       "3       1.0                  0                 1                   0   \n",
       "4       0.5                  0                 1                   0   \n",
       "\n",
       "   ArrSkiSteLeap_step  ArrSkiSteLeap_unison  DepSkiSteLeap_leap  \\\n",
       "0                   0                     1                   0   \n",
       "1                   1                     0                   1   \n",
       "2                   0                     0                   0   \n",
       "3                   1                     0                   0   \n",
       "4                   1                     0                   1   \n",
       "\n",
       "   DepSkiSteLeap_step  DepSkiSteLeap_unison  \n",
       "0                   1                     0  \n",
       "1                   0                     0  \n",
       "2                   1                     0  \n",
       "3                   1                     0  \n",
       "4                   0                     0  "
      ]
     },
     "execution_count": 83,
     "metadata": {},
     "output_type": "execute_result"
    }
   ],
   "source": [
    "# transfer dummy variables into one-hot encoding - test set\n",
    "X_test_en = pd.get_dummies(X_test, columns=['onOffBeat'], drop_first=False)\n",
    "X_test_en1 = pd.get_dummies(X_test_en, columns=['ArrSkiSteLeap'], drop_first=False)\n",
    "X_test_en2 = pd.get_dummies(X_test_en1, columns=['DepSkiSteLeap'], drop_first=False)\n",
    "X_test = X_test_en2\n",
    "X_test.head()"
   ]
  },
  {
   "cell_type": "code",
   "execution_count": 96,
   "metadata": {},
   "outputs": [],
   "source": [
    "sc = StandardScaler()\n",
    "X_train = sc.fit_transform(X_train)\n",
    "X_test = sc.transform(X_test)\n"
   ]
  },
  {
   "cell_type": "code",
   "execution_count": 97,
   "metadata": {},
   "outputs": [
    {
     "data": {
      "text/plain": [
       "LogisticRegression(C=1.0, class_weight=None, dual=False, fit_intercept=True,\n",
       "                   intercept_scaling=1, l1_ratio=None, max_iter=100,\n",
       "                   multi_class='auto', n_jobs=None, penalty='l2',\n",
       "                   random_state=None, solver='lbfgs', tol=0.0001, verbose=0,\n",
       "                   warm_start=False)"
      ]
     },
     "execution_count": 97,
     "metadata": {},
     "output_type": "execute_result"
    }
   ],
   "source": [
    "#add interactions & train \n",
    "\n",
    "poly = PolynomialFeatures(degree = 2, interaction_only=False, include_bias = False)\n",
    "poly.fit_transform(X_train)\n",
    "logit_model = LogisticRegression()\n",
    "logit_model.fit(X_train, y_train)"
   ]
  },
  {
   "cell_type": "code",
   "execution_count": 98,
   "metadata": {},
   "outputs": [],
   "source": [
    "y_pred = logit_model.predict(X_test)"
   ]
  },
  {
   "cell_type": "code",
   "execution_count": 99,
   "metadata": {},
   "outputs": [
    {
     "data": {
      "text/plain": [
       "71.06848446417247"
      ]
     },
     "execution_count": 99,
     "metadata": {},
     "output_type": "execute_result"
    }
   ],
   "source": [
    "accuracy = metrics.accuracy_score(y_test, y_pred)\n",
    "accuracy_percentage = 100 * accuracy\n",
    "accuracy_percentage"
   ]
  },
  {
   "cell_type": "code",
   "execution_count": 100,
   "metadata": {},
   "outputs": [
    {
     "name": "stdout",
     "output_type": "stream",
     "text": [
      "0.7106848446417247\n",
      "0.7106848446417248\n",
      "0.7106848446417248\n",
      "[[1774 2486]\n",
      " [1164 7192]]\n"
     ]
    }
   ],
   "source": [
    "print(metrics.f1_score(y_test, y_pred, average=\"micro\"))\n",
    "print(metrics.precision_score(y_test, y_pred, average=\"micro\"))\n",
    "print(metrics.recall_score(y_test, y_pred, average=\"micro\"))\n",
    "print(metrics.confusion_matrix(y_test, y_pred))"
   ]
  },
  {
   "cell_type": "code",
   "execution_count": 101,
   "metadata": {},
   "outputs": [
    {
     "name": "stdout",
     "output_type": "stream",
     "text": [
      "              precision    recall  f1-score   support\n",
      "\n",
      "           0       0.60      0.42      0.49      4260\n",
      "           1       0.74      0.86      0.80      8356\n",
      "\n",
      "    accuracy                           0.71     12616\n",
      "   macro avg       0.67      0.64      0.65     12616\n",
      "weighted avg       0.70      0.71      0.69     12616\n",
      "\n"
     ]
    }
   ],
   "source": [
    "print(metrics.classification_report(y_test,y_pred))"
   ]
  },
  {
   "cell_type": "code",
   "execution_count": null,
   "metadata": {},
   "outputs": [],
   "source": []
  }
 ],
 "metadata": {
  "kernelspec": {
   "display_name": "Python 3",
   "language": "python",
   "name": "python3"
  },
  "language_info": {
   "codemirror_mode": {
    "name": "ipython",
    "version": 3
   },
   "file_extension": ".py",
   "mimetype": "text/x-python",
   "name": "python",
   "nbconvert_exporter": "python",
   "pygments_lexer": "ipython3",
   "version": "3.7.6"
  }
 },
 "nbformat": 4,
 "nbformat_minor": 4
}
